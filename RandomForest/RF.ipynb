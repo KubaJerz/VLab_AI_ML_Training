{
 "cells": [
  {
   "cell_type": "markdown",
   "id": "3d562273",
   "metadata": {},
   "source": [
    "Random Forest - AI Training Software  \n",
    "Copyright (C) 2024 AI Institute, University of South Carolina\n",
    "\n",
    "Authors:    Homayoun Valafar\n",
    "            Andrew Smith\n",
    "            Christopher Lee\n",
    "            Alireza Bagheri\n",
    "            Musa Azim\n",
    "         \n",
    "\n",
    "This program is free software: you can redistribute it and/or modify  \n",
    "it under the terms of the GNU General Public License as published by  \n",
    "the Free Software Foundation, either version 3 of the License, or  \n",
    "(at your option) any later version.  \n",
    "\n",
    "This program is distributed in the hope that it will be useful,  \n",
    "but WITHOUT ANY WARRANTY; without even the implied warranty of  \n",
    "MERCHANTABILITY or FITNESS FOR A PARTICULAR PURPOSE. See the  \n",
    "GNU General Public License for more details.  \n",
    "\n",
    "You should have received a copy of the GNU General Public License  \n",
    "along with this program. If not, see <https://www.gnu.org/licenses/>.  \n",
    "\n",
    "For inquiries or permissions, contact: Dr. Valafar (homayoun@cse.sc.edu)\n"
   ]
  },
  {
   "cell_type": "code",
   "execution_count": null,
   "id": "initial_id",
   "metadata": {
    "collapsed": true
   },
   "outputs": [],
   "source": [
    "# This is a sample Python script.\n",
    "import matplotlib.pyplot as plt\n",
    "import numpy as np\n",
    "import pandas as pd\n",
    "from sklearn import tree\n",
    "from sklearn.datasets import make_classification\n",
    "from sklearn.model_selection import train_test_split\n",
    "from sklearn.ensemble import RandomForestClassifier\n",
    "from sklearn.metrics import accuracy_score, classification_report, confusion_matrix, ConfusionMatrixDisplay\n"
   ]
  },
  {
   "cell_type": "code",
   "execution_count": null,
   "id": "6b067ee3",
   "metadata": {},
   "outputs": [],
   "source": [
    "# Generate a synthetic dataset with easy separability\n",
    "# X represents all the inputs to the model (e.g., age & height or blood pressure & cholesterol, etc.)\n",
    "# X is also referred to as features or independent variables\n",
    "# y represents the target variable (e.g., whether a person has a disease or not)\n",
    "# y is also referred to as the label or dependent variable\n",
    "X, y = make_classification(\n",
    "    n_samples=10000,      # Total number of samples\n",
    "    n_features=2,         # Number of features (dimensions)\n",
    "    n_informative=1,     # Number of informative features\n",
    "    n_redundant=0,       # Number of redundant features\n",
    "    n_repeated=0,\n",
    "    n_classes=2,\n",
    "    n_clusters_per_class=1,\n",
    "    flip_y=0,            # Fraction of samples whose class is randomly exchanged\n",
    "    class_sep=5,         # Separation between the classes\n",
    "    weights = [0.5, 0.5], # Can adjust balance of the data\n",
    "    hypercube=True,\n",
    "    random_state=42\n",
    ")\n",
    "\n",
    "print(X.shape)\n",
    "print(y.shape)"
   ]
  },
  {
   "cell_type": "code",
   "execution_count": null,
   "id": "d4ff95dd",
   "metadata": {},
   "outputs": [],
   "source": [
    "# Split the dataset into training and testing sets\n",
    "X_train, X_test, y_train, y_test = train_test_split(X, y, test_size=0.3, random_state=42)"
   ]
  },
  {
   "cell_type": "code",
   "execution_count": null,
   "id": "490c9b1d",
   "metadata": {},
   "outputs": [],
   "source": [
    "# Plot the generated dataset\n",
    "plt.figure(figsize=(10, 6))\n",
    "plt.scatter(X_train[:, 0], X_train[:, 1], c=y_train, cmap='coolwarm', marker='o', edgecolor='k', s=70, label='Train')\n",
    "plt.scatter(X_test[:, 0], X_test[:, 1], c=y_test, cmap='coolwarm', marker='x', edgecolor='k', s=70, label='Test')\n",
    "plt.title(\"Synthetic Data for ANN with Easy Separability\")\n",
    "plt.xlabel(\"Feature 1\")\n",
    "plt.ylabel(\"Feature 2\")\n",
    "plt.legend()\n",
    "plt.show()"
   ]
  },
  {
   "cell_type": "code",
   "execution_count": null,
   "id": "8a1b013e",
   "metadata": {},
   "outputs": [],
   "source": [
    "\n",
    "# Step 3: Initialize and train the Random Forest model\n",
    "rf_model = RandomForestClassifier(n_estimators=100, random_state=42)\n",
    "rf_model.fit(X_train, y_train);\n"
   ]
  },
  {
   "cell_type": "code",
   "execution_count": null,
   "id": "53f13914",
   "metadata": {},
   "outputs": [],
   "source": [
    "\n",
    "# Step 4: Make predictions and evaluate the model\n",
    "y_pred = rf_model.predict(X_test)\n",
    "\n",
    "# Step 5: Print evaluation metrics\n",
    "print(\"Accuracy:\", accuracy_score(y_test, y_pred))\n",
    "print(\"Classification Report:\\n\", classification_report(y_test, y_pred))\n",
    "print(\"Confusion Matrix:\\n\", confusion_matrix(y_test, y_pred))\n"
   ]
  },
  {
   "cell_type": "code",
   "execution_count": null,
   "id": "d144c7c7",
   "metadata": {},
   "outputs": [],
   "source": [
    "# Generate confusion matrix\n",
    "cm = confusion_matrix(y_test, y_pred)\n",
    "\n",
    "# Display confusion matrix\n",
    "disp = ConfusionMatrixDisplay(confusion_matrix=cm)\n",
    "disp.plot(cmap=plt.cm.Blues)\n",
    "plt.title(\"Confusion Matrix\")\n",
    "plt.xlabel(\"Predicted Label\")\n",
    "plt.ylabel(\"True Label\")\n",
    "plt.show()"
   ]
  },
  {
   "cell_type": "code",
   "execution_count": null,
   "id": "3d2169ec",
   "metadata": {},
   "outputs": [],
   "source": [
    "# Plot the decision boundary\n",
    "def plot_decision_boundary(X, y, model):\n",
    "    x_min, x_max = X[:, 0].min() - 1, X[:, 0].max() + 1\n",
    "    y_min, y_max = X[:, 1].min() - 1, X[:, 1].max() + 1\n",
    "    xx, yy = np.meshgrid(np.arange(x_min, x_max, 0.01),\n",
    "                         np.arange(y_min, y_max, 0.01))\n",
    "    Z = model.predict(np.c_[xx.ravel(), yy.ravel()])\n",
    "    Z = Z.reshape(xx.shape)\n",
    "    plt.contourf(xx, yy, Z, alpha=0.8, cmap='coolwarm')\n",
    "    plt.scatter(X[:, 0], X[:, 1], c=y, edgecolors='k', marker='o', cmap='coolwarm')\n",
    "    plt.xlabel('Feature 1')\n",
    "    plt.ylabel('Feature 2')\n",
    "    plt.title('Decision Boundary')\n",
    "\n",
    "plt.figure(figsize=(10, 6))\n",
    "plot_decision_boundary(X_test, y_test, rf_model)\n",
    "plt.show()"
   ]
  },
  {
   "cell_type": "code",
   "execution_count": null,
   "id": "e54b1098",
   "metadata": {},
   "outputs": [],
   "source": [
    "single_tree = rf_model.estimators_[0]\n",
    "\n",
    "# Generate a plot for the selected tree\n",
    "plt.figure(figsize=(20, 10))\n",
    "tree.plot_tree(single_tree, feature_names=[f\"Feature {i}\" for i in range(X.shape[1])],\n",
    "          class_names=[\"Class 0\", \"Class 1\"], filled=True, rounded=True)\n",
    "plt.show()"
   ]
  },
  {
   "cell_type": "code",
   "execution_count": null,
   "id": "a8a73e7a",
   "metadata": {},
   "outputs": [],
   "source": [
    "# Retrieve feature importances from the trained model\n",
    "feature_importances = rf_model.feature_importances_\n",
    "\n",
    "# Create a bar plot for feature importances\n",
    "plt.figure(figsize=(10, 6))\n",
    "features = [f\"Feature {i}\" for i in range(X.shape[1])]\n",
    "plt.barh(features, feature_importances, color=\"skyblue\")\n",
    "plt.xlabel(\"Feature Importance\")\n",
    "plt.ylabel(\"Feature\")\n",
    "plt.title(\"Feature Importance in Random Forest\")\n",
    "plt.show()\n",
    "\n",
    "# Print feature importance values\n",
    "for i, importance in enumerate(feature_importances):\n",
    "    print(f\"{features[i]}: {importance:.4f}\")\n"
   ]
  }
 ],
 "metadata": {
  "kernelspec": {
   "display_name": "Python 3",
   "language": "python",
   "name": "python3"
  },
  "language_info": {
   "codemirror_mode": {
    "name": "ipython",
    "version": 3
   },
   "file_extension": ".py",
   "mimetype": "text/x-python",
   "name": "python",
   "nbconvert_exporter": "python",
   "pygments_lexer": "ipython3",
   "version": "3.12.3"
  }
 },
 "nbformat": 4,
 "nbformat_minor": 5
}
