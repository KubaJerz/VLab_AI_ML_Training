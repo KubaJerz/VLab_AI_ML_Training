{
 "cells": [
  {
   "cell_type": "markdown",
   "id": "71e2a592",
   "metadata": {},
   "source": [
    "## 1 \n",
    "\n",
    "Import the librarys we need.\n",
    "\n",
    "- We know our file is a .CSV so lets import `pandas`\n",
    "- I will also import a few more libraries I expect to use. If they are not clear, don't import them, and you can go back and add them when it becomes clear that we will need them\n"
   ]
  },
  {
   "cell_type": "code",
   "execution_count": 1,
   "id": "223616d2",
   "metadata": {},
   "outputs": [],
   "source": [
    "import pandas as pd\n",
    "import numpy as np\n",
    "import torch "
   ]
  },
  {
   "cell_type": "markdown",
   "id": "6b098ef8",
   "metadata": {},
   "source": [
    "Import data and look at it."
   ]
  },
  {
   "cell_type": "code",
   "execution_count": 2,
   "id": "f50df8b2",
   "metadata": {},
   "outputs": [],
   "source": [
    "df = pd.read_csv('breast_cancer_dataset_raw_manipulated.csv')"
   ]
  },
  {
   "cell_type": "code",
   "execution_count": 3,
   "id": "d9c204b4",
   "metadata": {},
   "outputs": [
    {
     "data": {
      "text/html": [
       "<div>\n",
       "<style scoped>\n",
       "    .dataframe tbody tr th:only-of-type {\n",
       "        vertical-align: middle;\n",
       "    }\n",
       "\n",
       "    .dataframe tbody tr th {\n",
       "        vertical-align: top;\n",
       "    }\n",
       "\n",
       "    .dataframe thead th {\n",
       "        text-align: right;\n",
       "    }\n",
       "</style>\n",
       "<table border=\"1\" class=\"dataframe\">\n",
       "  <thead>\n",
       "    <tr style=\"text-align: right;\">\n",
       "      <th></th>\n",
       "      <th>Unnamed: 0</th>\n",
       "      <th>id</th>\n",
       "      <th>mean radius</th>\n",
       "      <th>mean texture</th>\n",
       "      <th>mean perimeter</th>\n",
       "      <th>mean area</th>\n",
       "      <th>mean smoothness</th>\n",
       "      <th>mean compactness</th>\n",
       "      <th>mean concavity</th>\n",
       "      <th>mean concave points</th>\n",
       "      <th>...</th>\n",
       "      <th>worst texture</th>\n",
       "      <th>worst perimeter</th>\n",
       "      <th>worst area</th>\n",
       "      <th>worst smoothness</th>\n",
       "      <th>worst compactness</th>\n",
       "      <th>worst concavity</th>\n",
       "      <th>worst concave points</th>\n",
       "      <th>worst symmetry</th>\n",
       "      <th>worst fractal dimension</th>\n",
       "      <th>diagnosis</th>\n",
       "    </tr>\n",
       "  </thead>\n",
       "  <tbody>\n",
       "    <tr>\n",
       "      <th>0</th>\n",
       "      <td>0</td>\n",
       "      <td>4021</td>\n",
       "      <td>17.99</td>\n",
       "      <td>10.38</td>\n",
       "      <td>122.80</td>\n",
       "      <td>1001.0</td>\n",
       "      <td>0.11840</td>\n",
       "      <td>0.27760</td>\n",
       "      <td>0.3001</td>\n",
       "      <td>0.14710</td>\n",
       "      <td>...</td>\n",
       "      <td>17.33</td>\n",
       "      <td>184.60</td>\n",
       "      <td>2019.0</td>\n",
       "      <td>0.1622</td>\n",
       "      <td>0.6656</td>\n",
       "      <td>0.7119</td>\n",
       "      <td>0.2654</td>\n",
       "      <td>0.4601</td>\n",
       "      <td>0.11890</td>\n",
       "      <td>benign</td>\n",
       "    </tr>\n",
       "    <tr>\n",
       "      <th>1</th>\n",
       "      <td>1</td>\n",
       "      <td>4664</td>\n",
       "      <td>20.57</td>\n",
       "      <td>17.77</td>\n",
       "      <td>132.90</td>\n",
       "      <td>1326.0</td>\n",
       "      <td>0.08474</td>\n",
       "      <td>0.07864</td>\n",
       "      <td>0.0869</td>\n",
       "      <td>0.07017</td>\n",
       "      <td>...</td>\n",
       "      <td>23.41</td>\n",
       "      <td>158.80</td>\n",
       "      <td>1956.0</td>\n",
       "      <td>0.1238</td>\n",
       "      <td>0.1866</td>\n",
       "      <td>0.2416</td>\n",
       "      <td>0.1860</td>\n",
       "      <td>0.2750</td>\n",
       "      <td>0.08902</td>\n",
       "      <td>benign</td>\n",
       "    </tr>\n",
       "    <tr>\n",
       "      <th>2</th>\n",
       "      <td>2</td>\n",
       "      <td>2967</td>\n",
       "      <td>19.69</td>\n",
       "      <td>21.25</td>\n",
       "      <td>130.00</td>\n",
       "      <td>1203.0</td>\n",
       "      <td>0.10960</td>\n",
       "      <td>0.15990</td>\n",
       "      <td>0.1974</td>\n",
       "      <td>0.12790</td>\n",
       "      <td>...</td>\n",
       "      <td>25.53</td>\n",
       "      <td>152.50</td>\n",
       "      <td>1709.0</td>\n",
       "      <td>0.1444</td>\n",
       "      <td>0.4245</td>\n",
       "      <td>0.4504</td>\n",
       "      <td>0.2430</td>\n",
       "      <td>0.3613</td>\n",
       "      <td>0.08758</td>\n",
       "      <td>benign</td>\n",
       "    </tr>\n",
       "    <tr>\n",
       "      <th>3</th>\n",
       "      <td>3</td>\n",
       "      <td>1289</td>\n",
       "      <td>11.42</td>\n",
       "      <td>20.38</td>\n",
       "      <td>77.58</td>\n",
       "      <td>386.1</td>\n",
       "      <td>0.14250</td>\n",
       "      <td>0.28390</td>\n",
       "      <td>0.2414</td>\n",
       "      <td>0.10520</td>\n",
       "      <td>...</td>\n",
       "      <td>26.50</td>\n",
       "      <td>98.87</td>\n",
       "      <td>567.7</td>\n",
       "      <td>0.2098</td>\n",
       "      <td>0.8663</td>\n",
       "      <td>0.6869</td>\n",
       "      <td>0.2575</td>\n",
       "      <td>0.6638</td>\n",
       "      <td>0.17300</td>\n",
       "      <td>benign</td>\n",
       "    </tr>\n",
       "    <tr>\n",
       "      <th>4</th>\n",
       "      <td>4</td>\n",
       "      <td>3968</td>\n",
       "      <td>20.29</td>\n",
       "      <td>14.34</td>\n",
       "      <td>135.10</td>\n",
       "      <td>1297.0</td>\n",
       "      <td>0.10030</td>\n",
       "      <td>0.13280</td>\n",
       "      <td>0.1980</td>\n",
       "      <td>0.10430</td>\n",
       "      <td>...</td>\n",
       "      <td>16.67</td>\n",
       "      <td>152.20</td>\n",
       "      <td>1575.0</td>\n",
       "      <td>0.1374</td>\n",
       "      <td>0.2050</td>\n",
       "      <td>0.4000</td>\n",
       "      <td>0.1625</td>\n",
       "      <td>0.2364</td>\n",
       "      <td>0.07678</td>\n",
       "      <td>benign</td>\n",
       "    </tr>\n",
       "  </tbody>\n",
       "</table>\n",
       "<p>5 rows × 33 columns</p>\n",
       "</div>"
      ],
      "text/plain": [
       "   Unnamed: 0    id  mean radius  mean texture  mean perimeter  mean area  \\\n",
       "0           0  4021        17.99         10.38          122.80     1001.0   \n",
       "1           1  4664        20.57         17.77          132.90     1326.0   \n",
       "2           2  2967        19.69         21.25          130.00     1203.0   \n",
       "3           3  1289        11.42         20.38           77.58      386.1   \n",
       "4           4  3968        20.29         14.34          135.10     1297.0   \n",
       "\n",
       "   mean smoothness  mean compactness  mean concavity  mean concave points  \\\n",
       "0          0.11840           0.27760          0.3001              0.14710   \n",
       "1          0.08474           0.07864          0.0869              0.07017   \n",
       "2          0.10960           0.15990          0.1974              0.12790   \n",
       "3          0.14250           0.28390          0.2414              0.10520   \n",
       "4          0.10030           0.13280          0.1980              0.10430   \n",
       "\n",
       "   ...  worst texture  worst perimeter  worst area  worst smoothness  \\\n",
       "0  ...          17.33           184.60      2019.0            0.1622   \n",
       "1  ...          23.41           158.80      1956.0            0.1238   \n",
       "2  ...          25.53           152.50      1709.0            0.1444   \n",
       "3  ...          26.50            98.87       567.7            0.2098   \n",
       "4  ...          16.67           152.20      1575.0            0.1374   \n",
       "\n",
       "   worst compactness  worst concavity  worst concave points  worst symmetry  \\\n",
       "0             0.6656           0.7119                0.2654          0.4601   \n",
       "1             0.1866           0.2416                0.1860          0.2750   \n",
       "2             0.4245           0.4504                0.2430          0.3613   \n",
       "3             0.8663           0.6869                0.2575          0.6638   \n",
       "4             0.2050           0.4000                0.1625          0.2364   \n",
       "\n",
       "   worst fractal dimension  diagnosis  \n",
       "0                  0.11890     benign  \n",
       "1                  0.08902     benign  \n",
       "2                  0.08758     benign  \n",
       "3                  0.17300     benign  \n",
       "4                  0.07678     benign  \n",
       "\n",
       "[5 rows x 33 columns]"
      ]
     },
     "execution_count": 3,
     "metadata": {},
     "output_type": "execute_result"
    }
   ],
   "source": [
    "df.head()"
   ]
  },
  {
   "cell_type": "code",
   "execution_count": 4,
   "id": "3da7ce6c",
   "metadata": {},
   "outputs": [
    {
     "data": {
      "text/html": [
       "<div>\n",
       "<style scoped>\n",
       "    .dataframe tbody tr th:only-of-type {\n",
       "        vertical-align: middle;\n",
       "    }\n",
       "\n",
       "    .dataframe tbody tr th {\n",
       "        vertical-align: top;\n",
       "    }\n",
       "\n",
       "    .dataframe thead th {\n",
       "        text-align: right;\n",
       "    }\n",
       "</style>\n",
       "<table border=\"1\" class=\"dataframe\">\n",
       "  <thead>\n",
       "    <tr style=\"text-align: right;\">\n",
       "      <th></th>\n",
       "      <th>Unnamed: 0</th>\n",
       "      <th>id</th>\n",
       "      <th>mean radius</th>\n",
       "      <th>mean texture</th>\n",
       "      <th>mean perimeter</th>\n",
       "      <th>mean area</th>\n",
       "      <th>mean smoothness</th>\n",
       "      <th>mean compactness</th>\n",
       "      <th>mean concavity</th>\n",
       "      <th>mean concave points</th>\n",
       "      <th>...</th>\n",
       "      <th>worst texture</th>\n",
       "      <th>worst perimeter</th>\n",
       "      <th>worst area</th>\n",
       "      <th>worst smoothness</th>\n",
       "      <th>worst compactness</th>\n",
       "      <th>worst concavity</th>\n",
       "      <th>worst concave points</th>\n",
       "      <th>worst symmetry</th>\n",
       "      <th>worst fractal dimension</th>\n",
       "      <th>diagnosis</th>\n",
       "    </tr>\n",
       "  </thead>\n",
       "  <tbody>\n",
       "    <tr>\n",
       "      <th>636</th>\n",
       "      <td>636</td>\n",
       "      <td>1507</td>\n",
       "      <td>14.61</td>\n",
       "      <td>15.69</td>\n",
       "      <td>92.68</td>\n",
       "      <td>664.9</td>\n",
       "      <td>0.07618</td>\n",
       "      <td>0.03515</td>\n",
       "      <td>0.014470</td>\n",
       "      <td>0.018770</td>\n",
       "      <td>...</td>\n",
       "      <td>21.75</td>\n",
       "      <td>103.70</td>\n",
       "      <td>840.8</td>\n",
       "      <td>0.10110</td>\n",
       "      <td>0.07087</td>\n",
       "      <td>0.047460</td>\n",
       "      <td>0.05813</td>\n",
       "      <td>0.2530</td>\n",
       "      <td>0.05695</td>\n",
       "      <td>malignant</td>\n",
       "    </tr>\n",
       "    <tr>\n",
       "      <th>637</th>\n",
       "      <td>637</td>\n",
       "      <td>3129</td>\n",
       "      <td>10.29</td>\n",
       "      <td>27.61</td>\n",
       "      <td>65.67</td>\n",
       "      <td>321.4</td>\n",
       "      <td>0.09030</td>\n",
       "      <td>0.07658</td>\n",
       "      <td>0.059990</td>\n",
       "      <td>0.027380</td>\n",
       "      <td>...</td>\n",
       "      <td>34.91</td>\n",
       "      <td>69.57</td>\n",
       "      <td>357.6</td>\n",
       "      <td>0.13840</td>\n",
       "      <td>0.17100</td>\n",
       "      <td>0.200000</td>\n",
       "      <td>0.09127</td>\n",
       "      <td>0.2226</td>\n",
       "      <td>0.08283</td>\n",
       "      <td>malignant</td>\n",
       "    </tr>\n",
       "    <tr>\n",
       "      <th>638</th>\n",
       "      <td>638</td>\n",
       "      <td>2003</td>\n",
       "      <td>14.26</td>\n",
       "      <td>18.17</td>\n",
       "      <td>91.22</td>\n",
       "      <td>633.1</td>\n",
       "      <td>0.06576</td>\n",
       "      <td>0.05220</td>\n",
       "      <td>0.024750</td>\n",
       "      <td>0.013740</td>\n",
       "      <td>...</td>\n",
       "      <td>25.26</td>\n",
       "      <td>105.80</td>\n",
       "      <td>819.7</td>\n",
       "      <td>0.09445</td>\n",
       "      <td>0.21670</td>\n",
       "      <td>0.156500</td>\n",
       "      <td>0.07530</td>\n",
       "      <td>0.2636</td>\n",
       "      <td>0.07676</td>\n",
       "      <td>malignant</td>\n",
       "    </tr>\n",
       "    <tr>\n",
       "      <th>639</th>\n",
       "      <td>639</td>\n",
       "      <td>4844</td>\n",
       "      <td>11.25</td>\n",
       "      <td>14.78</td>\n",
       "      <td>71.38</td>\n",
       "      <td>390.0</td>\n",
       "      <td>0.08306</td>\n",
       "      <td>0.04458</td>\n",
       "      <td>0.000974</td>\n",
       "      <td>0.002941</td>\n",
       "      <td>...</td>\n",
       "      <td>22.06</td>\n",
       "      <td>82.08</td>\n",
       "      <td>492.7</td>\n",
       "      <td>0.11660</td>\n",
       "      <td>0.09794</td>\n",
       "      <td>0.005518</td>\n",
       "      <td>0.01667</td>\n",
       "      <td>0.2815</td>\n",
       "      <td>0.07418</td>\n",
       "      <td>malignant</td>\n",
       "    </tr>\n",
       "    <tr>\n",
       "      <th>640</th>\n",
       "      <td>640</td>\n",
       "      <td>3013</td>\n",
       "      <td>20.94</td>\n",
       "      <td>23.56</td>\n",
       "      <td>138.90</td>\n",
       "      <td>1364.0</td>\n",
       "      <td>0.10070</td>\n",
       "      <td>0.16060</td>\n",
       "      <td>0.271200</td>\n",
       "      <td>0.131000</td>\n",
       "      <td>...</td>\n",
       "      <td>27.00</td>\n",
       "      <td>165.30</td>\n",
       "      <td>2010.0</td>\n",
       "      <td>0.12110</td>\n",
       "      <td>0.31720</td>\n",
       "      <td>0.699100</td>\n",
       "      <td>0.21050</td>\n",
       "      <td>0.3126</td>\n",
       "      <td>0.07849</td>\n",
       "      <td>benign</td>\n",
       "    </tr>\n",
       "  </tbody>\n",
       "</table>\n",
       "<p>5 rows × 33 columns</p>\n",
       "</div>"
      ],
      "text/plain": [
       "     Unnamed: 0    id  mean radius  mean texture  mean perimeter  mean area  \\\n",
       "636         636  1507        14.61         15.69           92.68      664.9   \n",
       "637         637  3129        10.29         27.61           65.67      321.4   \n",
       "638         638  2003        14.26         18.17           91.22      633.1   \n",
       "639         639  4844        11.25         14.78           71.38      390.0   \n",
       "640         640  3013        20.94         23.56          138.90     1364.0   \n",
       "\n",
       "     mean smoothness  mean compactness  mean concavity  mean concave points  \\\n",
       "636          0.07618           0.03515        0.014470             0.018770   \n",
       "637          0.09030           0.07658        0.059990             0.027380   \n",
       "638          0.06576           0.05220        0.024750             0.013740   \n",
       "639          0.08306           0.04458        0.000974             0.002941   \n",
       "640          0.10070           0.16060        0.271200             0.131000   \n",
       "\n",
       "     ...  worst texture  worst perimeter  worst area  worst smoothness  \\\n",
       "636  ...          21.75           103.70       840.8           0.10110   \n",
       "637  ...          34.91            69.57       357.6           0.13840   \n",
       "638  ...          25.26           105.80       819.7           0.09445   \n",
       "639  ...          22.06            82.08       492.7           0.11660   \n",
       "640  ...          27.00           165.30      2010.0           0.12110   \n",
       "\n",
       "     worst compactness  worst concavity  worst concave points  worst symmetry  \\\n",
       "636            0.07087         0.047460               0.05813          0.2530   \n",
       "637            0.17100         0.200000               0.09127          0.2226   \n",
       "638            0.21670         0.156500               0.07530          0.2636   \n",
       "639            0.09794         0.005518               0.01667          0.2815   \n",
       "640            0.31720         0.699100               0.21050          0.3126   \n",
       "\n",
       "     worst fractal dimension  diagnosis  \n",
       "636                  0.05695  malignant  \n",
       "637                  0.08283  malignant  \n",
       "638                  0.07676  malignant  \n",
       "639                  0.07418  malignant  \n",
       "640                  0.07849     benign  \n",
       "\n",
       "[5 rows x 33 columns]"
      ]
     },
     "execution_count": 4,
     "metadata": {},
     "output_type": "execute_result"
    }
   ],
   "source": [
    "df.tail()"
   ]
  },
  {
   "cell_type": "markdown",
   "id": "340f1899",
   "metadata": {},
   "source": [
    " We can't see all the columns so lets get the title of each one."
   ]
  },
  {
   "cell_type": "code",
   "execution_count": 5,
   "id": "a4c24731",
   "metadata": {},
   "outputs": [
    {
     "data": {
      "text/plain": [
       "Index(['Unnamed: 0', 'id', 'mean radius', 'mean texture', 'mean perimeter',\n",
       "       'mean area', 'mean smoothness', 'mean compactness', 'mean concavity',\n",
       "       'mean concave points', 'mean symmetry', 'mean fractal dimension',\n",
       "       'radius error', 'texture error', 'perimeter error', 'area error',\n",
       "       'smoothness error', 'compactness error', 'concavity error',\n",
       "       'concave points error', 'symmetry error', 'fractal dimension error',\n",
       "       'worst radius', 'worst texture', 'worst perimeter', 'worst area',\n",
       "       'worst smoothness', 'worst compactness', 'worst concavity',\n",
       "       'worst concave points', 'worst symmetry', 'worst fractal dimension',\n",
       "       'diagnosis'],\n",
       "      dtype='object')"
      ]
     },
     "execution_count": 5,
     "metadata": {},
     "output_type": "execute_result"
    }
   ],
   "source": [
    "df.columns"
   ]
  },
  {
   "cell_type": "markdown",
   "id": "b74c5309",
   "metadata": {},
   "source": [
    "## 2\n",
    "\n",
    "Lets note some observations.\n",
    "\n",
    "- `Unnamed` seems to be a duplicate of the index column\n",
    "- For the `README.txt` we know the `id` column is not going to help us in classification"
   ]
  },
  {
   "cell_type": "markdown",
   "id": "00b5dd3c",
   "metadata": {},
   "source": [
    "Lets keep looking around and check the `diagnosis` column"
   ]
  },
  {
   "cell_type": "code",
   "execution_count": 6,
   "id": "ea5edd4e",
   "metadata": {},
   "outputs": [
    {
     "data": {
      "text/plain": [
       "array(['benign', 'malignant', nan], dtype=object)"
      ]
     },
     "execution_count": 6,
     "metadata": {},
     "output_type": "execute_result"
    }
   ],
   "source": [
    "df['diagnosis'].unique()"
   ]
  },
  {
   "cell_type": "markdown",
   "id": "ccb9b4ed",
   "metadata": {},
   "source": [
    "Lets get the count of each \"class\""
   ]
  },
  {
   "cell_type": "code",
   "execution_count": 7,
   "id": "ed3ff011",
   "metadata": {},
   "outputs": [
    {
     "name": "stdout",
     "output_type": "stream",
     "text": [
      "benign has 239 occurrence\n",
      "malignant has 399 occurrence\n",
      "nan has 0 occurrence\n",
      "\n",
      "Total counts is: 638\n",
      "df is of size: 641\n"
     ]
    }
   ],
   "source": [
    "counts = []\n",
    "for diagnosis_type in df['diagnosis'].unique():\n",
    "    count = (df['diagnosis'] == diagnosis_type).sum()\n",
    "    counts.append(count.item())\n",
    "    print(f\"{diagnosis_type} has {count} occurrence\")\n",
    "\n",
    "print(f\"\\nTotal counts is: {sum(counts)}\")\n",
    "print(f\"df is of size: {len(df)}\")"
   ]
  },
  {
   "cell_type": "markdown",
   "id": "bca61a1f",
   "metadata": {},
   "source": [
    "Interesting let's look into the `nan` and figure out why we are not counting it"
   ]
  },
  {
   "cell_type": "code",
   "execution_count": 8,
   "id": "f617de51",
   "metadata": {},
   "outputs": [
    {
     "name": "stdout",
     "output_type": "stream",
     "text": [
      "benign is of type: <class 'str'>\n",
      "malignant is of type: <class 'str'>\n",
      "nan is of type: <class 'float'>\n"
     ]
    }
   ],
   "source": [
    "for diagnosis_type in df['diagnosis'].unique():\n",
    "    print(f\"{diagnosis_type} is of type: {type(diagnosis_type)}\")"
   ]
  },
  {
   "cell_type": "code",
   "execution_count": 9,
   "id": "cf6d21e9",
   "metadata": {},
   "outputs": [
    {
     "data": {
      "text/plain": [
       "float"
      ]
     },
     "execution_count": 9,
     "metadata": {},
     "output_type": "execute_result"
    }
   ],
   "source": [
    "type(np.nan)"
   ]
  },
  {
   "cell_type": "markdown",
   "id": "ef4068fe",
   "metadata": {},
   "source": [
    "Lets see if the base case checks out."
   ]
  },
  {
   "cell_type": "code",
   "execution_count": 10,
   "id": "d077ed5f",
   "metadata": {},
   "outputs": [
    {
     "data": {
      "text/plain": [
       "False"
      ]
     },
     "execution_count": 10,
     "metadata": {},
     "output_type": "execute_result"
    }
   ],
   "source": [
    "np.nan == np.nan"
   ]
  },
  {
   "cell_type": "markdown",
   "id": "56c950c7",
   "metadata": {},
   "source": [
    "\n",
    "This makes sense now.\n",
    "\n",
    "We don't catch `np.nan` in the for loop above because `np.nan != np.nan`, so `df['diagnosis'] == np.nan` is always `False`.\n",
    "\n",
    "`np.nan != np.nan` because NaN (Not a Number) is defined to be unequal to everything, including itself.\n"
   ]
  },
  {
   "cell_type": "code",
   "execution_count": 11,
   "id": "f80be123",
   "metadata": {},
   "outputs": [
    {
     "name": "stdout",
     "output_type": "stream",
     "text": [
      "We are missing: 3 values. \n"
     ]
    }
   ],
   "source": [
    "print(f\"We are missing: {len(df) - sum(counts)} values. \")"
   ]
  },
  {
   "cell_type": "code",
   "execution_count": 12,
   "id": "a3ef54fb",
   "metadata": {},
   "outputs": [
    {
     "data": {
      "text/plain": [
       "np.int64(3)"
      ]
     },
     "execution_count": 12,
     "metadata": {},
     "output_type": "execute_result"
    }
   ],
   "source": [
    "df['diagnosis'].isna().sum()"
   ]
  },
  {
   "cell_type": "markdown",
   "id": "b1520818",
   "metadata": {},
   "source": [
    "\n",
    "When me make out classification datset we can't have rows that don't have a class so we must drop these rows."
   ]
  },
  {
   "cell_type": "code",
   "execution_count": 13,
   "id": "68f0a8c6",
   "metadata": {},
   "outputs": [
    {
     "data": {
      "text/plain": [
       "(638, np.int64(0))"
      ]
     },
     "execution_count": 13,
     "metadata": {},
     "output_type": "execute_result"
    }
   ],
   "source": [
    "df = df[ ~df['diagnosis'].isna()]\n",
    "len(df), df['diagnosis'].isna().sum()"
   ]
  },
  {
   "cell_type": "markdown",
   "id": "68bbb4ea",
   "metadata": {},
   "source": [
    "# 3\n",
    "\n",
    "Since `Unnamed` is treated like another feature insted of the index that it is lets go ahead and drop it."
   ]
  },
  {
   "cell_type": "code",
   "execution_count": 14,
   "id": "4f87b697",
   "metadata": {},
   "outputs": [
    {
     "data": {
      "text/plain": [
       "Index(['Unnamed: 0', 'id', 'mean radius', 'mean texture', 'mean perimeter',\n",
       "       'mean area', 'mean smoothness', 'mean compactness', 'mean concavity',\n",
       "       'mean concave points', 'mean symmetry', 'mean fractal dimension',\n",
       "       'radius error', 'texture error', 'perimeter error', 'area error',\n",
       "       'smoothness error', 'compactness error', 'concavity error',\n",
       "       'concave points error', 'symmetry error', 'fractal dimension error',\n",
       "       'worst radius', 'worst texture', 'worst perimeter', 'worst area',\n",
       "       'worst smoothness', 'worst compactness', 'worst concavity',\n",
       "       'worst concave points', 'worst symmetry', 'worst fractal dimension',\n",
       "       'diagnosis'],\n",
       "      dtype='object')"
      ]
     },
     "execution_count": 14,
     "metadata": {},
     "output_type": "execute_result"
    }
   ],
   "source": [
    "df.columns"
   ]
  },
  {
   "cell_type": "code",
   "execution_count": 15,
   "id": "4f9ef42f",
   "metadata": {},
   "outputs": [
    {
     "data": {
      "text/html": [
       "<div>\n",
       "<style scoped>\n",
       "    .dataframe tbody tr th:only-of-type {\n",
       "        vertical-align: middle;\n",
       "    }\n",
       "\n",
       "    .dataframe tbody tr th {\n",
       "        vertical-align: top;\n",
       "    }\n",
       "\n",
       "    .dataframe thead th {\n",
       "        text-align: right;\n",
       "    }\n",
       "</style>\n",
       "<table border=\"1\" class=\"dataframe\">\n",
       "  <thead>\n",
       "    <tr style=\"text-align: right;\">\n",
       "      <th></th>\n",
       "      <th>id</th>\n",
       "      <th>mean radius</th>\n",
       "      <th>mean texture</th>\n",
       "      <th>mean perimeter</th>\n",
       "      <th>mean area</th>\n",
       "      <th>mean smoothness</th>\n",
       "      <th>mean compactness</th>\n",
       "      <th>mean concavity</th>\n",
       "      <th>mean concave points</th>\n",
       "      <th>mean symmetry</th>\n",
       "      <th>...</th>\n",
       "      <th>worst texture</th>\n",
       "      <th>worst perimeter</th>\n",
       "      <th>worst area</th>\n",
       "      <th>worst smoothness</th>\n",
       "      <th>worst compactness</th>\n",
       "      <th>worst concavity</th>\n",
       "      <th>worst concave points</th>\n",
       "      <th>worst symmetry</th>\n",
       "      <th>worst fractal dimension</th>\n",
       "      <th>diagnosis</th>\n",
       "    </tr>\n",
       "  </thead>\n",
       "  <tbody>\n",
       "    <tr>\n",
       "      <th>0</th>\n",
       "      <td>4021</td>\n",
       "      <td>17.99</td>\n",
       "      <td>10.38</td>\n",
       "      <td>122.80</td>\n",
       "      <td>1001.0</td>\n",
       "      <td>0.11840</td>\n",
       "      <td>0.27760</td>\n",
       "      <td>0.300100</td>\n",
       "      <td>0.147100</td>\n",
       "      <td>0.2419</td>\n",
       "      <td>...</td>\n",
       "      <td>17.33</td>\n",
       "      <td>184.60</td>\n",
       "      <td>2019.0</td>\n",
       "      <td>0.16220</td>\n",
       "      <td>0.66560</td>\n",
       "      <td>0.711900</td>\n",
       "      <td>0.26540</td>\n",
       "      <td>0.4601</td>\n",
       "      <td>0.11890</td>\n",
       "      <td>benign</td>\n",
       "    </tr>\n",
       "    <tr>\n",
       "      <th>1</th>\n",
       "      <td>4664</td>\n",
       "      <td>20.57</td>\n",
       "      <td>17.77</td>\n",
       "      <td>132.90</td>\n",
       "      <td>1326.0</td>\n",
       "      <td>0.08474</td>\n",
       "      <td>0.07864</td>\n",
       "      <td>0.086900</td>\n",
       "      <td>0.070170</td>\n",
       "      <td>0.1812</td>\n",
       "      <td>...</td>\n",
       "      <td>23.41</td>\n",
       "      <td>158.80</td>\n",
       "      <td>1956.0</td>\n",
       "      <td>0.12380</td>\n",
       "      <td>0.18660</td>\n",
       "      <td>0.241600</td>\n",
       "      <td>0.18600</td>\n",
       "      <td>0.2750</td>\n",
       "      <td>0.08902</td>\n",
       "      <td>benign</td>\n",
       "    </tr>\n",
       "    <tr>\n",
       "      <th>2</th>\n",
       "      <td>2967</td>\n",
       "      <td>19.69</td>\n",
       "      <td>21.25</td>\n",
       "      <td>130.00</td>\n",
       "      <td>1203.0</td>\n",
       "      <td>0.10960</td>\n",
       "      <td>0.15990</td>\n",
       "      <td>0.197400</td>\n",
       "      <td>0.127900</td>\n",
       "      <td>0.2069</td>\n",
       "      <td>...</td>\n",
       "      <td>25.53</td>\n",
       "      <td>152.50</td>\n",
       "      <td>1709.0</td>\n",
       "      <td>0.14440</td>\n",
       "      <td>0.42450</td>\n",
       "      <td>0.450400</td>\n",
       "      <td>0.24300</td>\n",
       "      <td>0.3613</td>\n",
       "      <td>0.08758</td>\n",
       "      <td>benign</td>\n",
       "    </tr>\n",
       "    <tr>\n",
       "      <th>3</th>\n",
       "      <td>1289</td>\n",
       "      <td>11.42</td>\n",
       "      <td>20.38</td>\n",
       "      <td>77.58</td>\n",
       "      <td>386.1</td>\n",
       "      <td>0.14250</td>\n",
       "      <td>0.28390</td>\n",
       "      <td>0.241400</td>\n",
       "      <td>0.105200</td>\n",
       "      <td>0.2597</td>\n",
       "      <td>...</td>\n",
       "      <td>26.50</td>\n",
       "      <td>98.87</td>\n",
       "      <td>567.7</td>\n",
       "      <td>0.20980</td>\n",
       "      <td>0.86630</td>\n",
       "      <td>0.686900</td>\n",
       "      <td>0.25750</td>\n",
       "      <td>0.6638</td>\n",
       "      <td>0.17300</td>\n",
       "      <td>benign</td>\n",
       "    </tr>\n",
       "    <tr>\n",
       "      <th>4</th>\n",
       "      <td>3968</td>\n",
       "      <td>20.29</td>\n",
       "      <td>14.34</td>\n",
       "      <td>135.10</td>\n",
       "      <td>1297.0</td>\n",
       "      <td>0.10030</td>\n",
       "      <td>0.13280</td>\n",
       "      <td>0.198000</td>\n",
       "      <td>0.104300</td>\n",
       "      <td>0.1809</td>\n",
       "      <td>...</td>\n",
       "      <td>16.67</td>\n",
       "      <td>152.20</td>\n",
       "      <td>1575.0</td>\n",
       "      <td>0.13740</td>\n",
       "      <td>0.20500</td>\n",
       "      <td>0.400000</td>\n",
       "      <td>0.16250</td>\n",
       "      <td>0.2364</td>\n",
       "      <td>0.07678</td>\n",
       "      <td>benign</td>\n",
       "    </tr>\n",
       "    <tr>\n",
       "      <th>...</th>\n",
       "      <td>...</td>\n",
       "      <td>...</td>\n",
       "      <td>...</td>\n",
       "      <td>...</td>\n",
       "      <td>...</td>\n",
       "      <td>...</td>\n",
       "      <td>...</td>\n",
       "      <td>...</td>\n",
       "      <td>...</td>\n",
       "      <td>...</td>\n",
       "      <td>...</td>\n",
       "      <td>...</td>\n",
       "      <td>...</td>\n",
       "      <td>...</td>\n",
       "      <td>...</td>\n",
       "      <td>...</td>\n",
       "      <td>...</td>\n",
       "      <td>...</td>\n",
       "      <td>...</td>\n",
       "      <td>...</td>\n",
       "      <td>...</td>\n",
       "    </tr>\n",
       "    <tr>\n",
       "      <th>636</th>\n",
       "      <td>1507</td>\n",
       "      <td>14.61</td>\n",
       "      <td>15.69</td>\n",
       "      <td>92.68</td>\n",
       "      <td>664.9</td>\n",
       "      <td>0.07618</td>\n",
       "      <td>0.03515</td>\n",
       "      <td>0.014470</td>\n",
       "      <td>0.018770</td>\n",
       "      <td>0.1632</td>\n",
       "      <td>...</td>\n",
       "      <td>21.75</td>\n",
       "      <td>103.70</td>\n",
       "      <td>840.8</td>\n",
       "      <td>0.10110</td>\n",
       "      <td>0.07087</td>\n",
       "      <td>0.047460</td>\n",
       "      <td>0.05813</td>\n",
       "      <td>0.2530</td>\n",
       "      <td>0.05695</td>\n",
       "      <td>malignant</td>\n",
       "    </tr>\n",
       "    <tr>\n",
       "      <th>637</th>\n",
       "      <td>3129</td>\n",
       "      <td>10.29</td>\n",
       "      <td>27.61</td>\n",
       "      <td>65.67</td>\n",
       "      <td>321.4</td>\n",
       "      <td>0.09030</td>\n",
       "      <td>0.07658</td>\n",
       "      <td>0.059990</td>\n",
       "      <td>0.027380</td>\n",
       "      <td>0.1593</td>\n",
       "      <td>...</td>\n",
       "      <td>34.91</td>\n",
       "      <td>69.57</td>\n",
       "      <td>357.6</td>\n",
       "      <td>0.13840</td>\n",
       "      <td>0.17100</td>\n",
       "      <td>0.200000</td>\n",
       "      <td>0.09127</td>\n",
       "      <td>0.2226</td>\n",
       "      <td>0.08283</td>\n",
       "      <td>malignant</td>\n",
       "    </tr>\n",
       "    <tr>\n",
       "      <th>638</th>\n",
       "      <td>2003</td>\n",
       "      <td>14.26</td>\n",
       "      <td>18.17</td>\n",
       "      <td>91.22</td>\n",
       "      <td>633.1</td>\n",
       "      <td>0.06576</td>\n",
       "      <td>0.05220</td>\n",
       "      <td>0.024750</td>\n",
       "      <td>0.013740</td>\n",
       "      <td>0.1635</td>\n",
       "      <td>...</td>\n",
       "      <td>25.26</td>\n",
       "      <td>105.80</td>\n",
       "      <td>819.7</td>\n",
       "      <td>0.09445</td>\n",
       "      <td>0.21670</td>\n",
       "      <td>0.156500</td>\n",
       "      <td>0.07530</td>\n",
       "      <td>0.2636</td>\n",
       "      <td>0.07676</td>\n",
       "      <td>malignant</td>\n",
       "    </tr>\n",
       "    <tr>\n",
       "      <th>639</th>\n",
       "      <td>4844</td>\n",
       "      <td>11.25</td>\n",
       "      <td>14.78</td>\n",
       "      <td>71.38</td>\n",
       "      <td>390.0</td>\n",
       "      <td>0.08306</td>\n",
       "      <td>0.04458</td>\n",
       "      <td>0.000974</td>\n",
       "      <td>0.002941</td>\n",
       "      <td>0.1773</td>\n",
       "      <td>...</td>\n",
       "      <td>22.06</td>\n",
       "      <td>82.08</td>\n",
       "      <td>492.7</td>\n",
       "      <td>0.11660</td>\n",
       "      <td>0.09794</td>\n",
       "      <td>0.005518</td>\n",
       "      <td>0.01667</td>\n",
       "      <td>0.2815</td>\n",
       "      <td>0.07418</td>\n",
       "      <td>malignant</td>\n",
       "    </tr>\n",
       "    <tr>\n",
       "      <th>640</th>\n",
       "      <td>3013</td>\n",
       "      <td>20.94</td>\n",
       "      <td>23.56</td>\n",
       "      <td>138.90</td>\n",
       "      <td>1364.0</td>\n",
       "      <td>0.10070</td>\n",
       "      <td>0.16060</td>\n",
       "      <td>0.271200</td>\n",
       "      <td>0.131000</td>\n",
       "      <td>0.2205</td>\n",
       "      <td>...</td>\n",
       "      <td>27.00</td>\n",
       "      <td>165.30</td>\n",
       "      <td>2010.0</td>\n",
       "      <td>0.12110</td>\n",
       "      <td>0.31720</td>\n",
       "      <td>0.699100</td>\n",
       "      <td>0.21050</td>\n",
       "      <td>0.3126</td>\n",
       "      <td>0.07849</td>\n",
       "      <td>benign</td>\n",
       "    </tr>\n",
       "  </tbody>\n",
       "</table>\n",
       "<p>638 rows × 32 columns</p>\n",
       "</div>"
      ],
      "text/plain": [
       "       id  mean radius  mean texture  mean perimeter  mean area  \\\n",
       "0    4021        17.99         10.38          122.80     1001.0   \n",
       "1    4664        20.57         17.77          132.90     1326.0   \n",
       "2    2967        19.69         21.25          130.00     1203.0   \n",
       "3    1289        11.42         20.38           77.58      386.1   \n",
       "4    3968        20.29         14.34          135.10     1297.0   \n",
       "..    ...          ...           ...             ...        ...   \n",
       "636  1507        14.61         15.69           92.68      664.9   \n",
       "637  3129        10.29         27.61           65.67      321.4   \n",
       "638  2003        14.26         18.17           91.22      633.1   \n",
       "639  4844        11.25         14.78           71.38      390.0   \n",
       "640  3013        20.94         23.56          138.90     1364.0   \n",
       "\n",
       "     mean smoothness  mean compactness  mean concavity  mean concave points  \\\n",
       "0            0.11840           0.27760        0.300100             0.147100   \n",
       "1            0.08474           0.07864        0.086900             0.070170   \n",
       "2            0.10960           0.15990        0.197400             0.127900   \n",
       "3            0.14250           0.28390        0.241400             0.105200   \n",
       "4            0.10030           0.13280        0.198000             0.104300   \n",
       "..               ...               ...             ...                  ...   \n",
       "636          0.07618           0.03515        0.014470             0.018770   \n",
       "637          0.09030           0.07658        0.059990             0.027380   \n",
       "638          0.06576           0.05220        0.024750             0.013740   \n",
       "639          0.08306           0.04458        0.000974             0.002941   \n",
       "640          0.10070           0.16060        0.271200             0.131000   \n",
       "\n",
       "     mean symmetry  ...  worst texture  worst perimeter  worst area  \\\n",
       "0           0.2419  ...          17.33           184.60      2019.0   \n",
       "1           0.1812  ...          23.41           158.80      1956.0   \n",
       "2           0.2069  ...          25.53           152.50      1709.0   \n",
       "3           0.2597  ...          26.50            98.87       567.7   \n",
       "4           0.1809  ...          16.67           152.20      1575.0   \n",
       "..             ...  ...            ...              ...         ...   \n",
       "636         0.1632  ...          21.75           103.70       840.8   \n",
       "637         0.1593  ...          34.91            69.57       357.6   \n",
       "638         0.1635  ...          25.26           105.80       819.7   \n",
       "639         0.1773  ...          22.06            82.08       492.7   \n",
       "640         0.2205  ...          27.00           165.30      2010.0   \n",
       "\n",
       "     worst smoothness  worst compactness  worst concavity  \\\n",
       "0             0.16220            0.66560         0.711900   \n",
       "1             0.12380            0.18660         0.241600   \n",
       "2             0.14440            0.42450         0.450400   \n",
       "3             0.20980            0.86630         0.686900   \n",
       "4             0.13740            0.20500         0.400000   \n",
       "..                ...                ...              ...   \n",
       "636           0.10110            0.07087         0.047460   \n",
       "637           0.13840            0.17100         0.200000   \n",
       "638           0.09445            0.21670         0.156500   \n",
       "639           0.11660            0.09794         0.005518   \n",
       "640           0.12110            0.31720         0.699100   \n",
       "\n",
       "     worst concave points  worst symmetry  worst fractal dimension  diagnosis  \n",
       "0                 0.26540          0.4601                  0.11890     benign  \n",
       "1                 0.18600          0.2750                  0.08902     benign  \n",
       "2                 0.24300          0.3613                  0.08758     benign  \n",
       "3                 0.25750          0.6638                  0.17300     benign  \n",
       "4                 0.16250          0.2364                  0.07678     benign  \n",
       "..                    ...             ...                      ...        ...  \n",
       "636               0.05813          0.2530                  0.05695  malignant  \n",
       "637               0.09127          0.2226                  0.08283  malignant  \n",
       "638               0.07530          0.2636                  0.07676  malignant  \n",
       "639               0.01667          0.2815                  0.07418  malignant  \n",
       "640               0.21050          0.3126                  0.07849     benign  \n",
       "\n",
       "[638 rows x 32 columns]"
      ]
     },
     "execution_count": 15,
     "metadata": {},
     "output_type": "execute_result"
    }
   ],
   "source": [
    "df = df.drop(columns=['Unnamed: 0'])\n",
    "df"
   ]
  },
  {
   "cell_type": "markdown",
   "id": "e06772eb",
   "metadata": {},
   "source": [
    "## 4\n",
    "\n",
    "Lets check for duplicate rows."
   ]
  },
  {
   "cell_type": "code",
   "execution_count": 16,
   "id": "6ba1c346",
   "metadata": {},
   "outputs": [
    {
     "data": {
      "text/plain": [
       "np.int64(15)"
      ]
     },
     "execution_count": 16,
     "metadata": {},
     "output_type": "execute_result"
    }
   ],
   "source": [
    "df.duplicated().sum()"
   ]
  },
  {
   "cell_type": "markdown",
   "id": "1042fdbe",
   "metadata": {},
   "source": [
    "This is where you ask yourself the question that is specific for your dataset.\n",
    "- *\"Does having duplicates make sense in my context\"*\n",
    "\n",
    "For us duplicates don't make sense so we will drop them."
   ]
  },
  {
   "cell_type": "code",
   "execution_count": 17,
   "id": "eadd2b13",
   "metadata": {},
   "outputs": [],
   "source": [
    "df = df.dropna(axis=0)"
   ]
  },
  {
   "cell_type": "code",
   "execution_count": 18,
   "id": "f6d1f55d",
   "metadata": {},
   "outputs": [
    {
     "data": {
      "text/plain": [
       "584"
      ]
     },
     "execution_count": 18,
     "metadata": {},
     "output_type": "execute_result"
    }
   ],
   "source": [
    "len(df)"
   ]
  },
  {
   "cell_type": "markdown",
   "id": "b52907bd",
   "metadata": {},
   "source": [
    "## 5\n",
    "\n",
    "Lets check for missing data:\n",
    "- Check across rows.\n",
    "\n",
    "- Check across columns.\n"
   ]
  },
  {
   "cell_type": "markdown",
   "id": "9ea88176",
   "metadata": {},
   "source": [
    "**5.1** Check across rows."
   ]
  },
  {
   "cell_type": "code",
   "execution_count": 19,
   "id": "ec565539",
   "metadata": {},
   "outputs": [
    {
     "name": "stdout",
     "output_type": "stream",
     "text": [
      "column id : # missing rows\n",
      "\n",
      "id : 0\n",
      "mean radius : 0\n",
      "mean texture : 0\n",
      "mean perimeter : 0\n",
      "mean area : 0\n",
      "mean smoothness : 0\n",
      "mean compactness : 0\n",
      "mean concavity : 0\n",
      "mean concave points : 0\n",
      "mean symmetry : 0\n",
      "mean fractal dimension : 0\n",
      "radius error : 0\n",
      "texture error : 0\n",
      "perimeter error : 0\n",
      "area error : 0\n",
      "smoothness error : 0\n",
      "compactness error : 0\n",
      "concavity error : 0\n",
      "concave points error : 0\n",
      "symmetry error : 0\n",
      "fractal dimension error : 0\n",
      "worst radius : 0\n",
      "worst texture : 0\n",
      "worst perimeter : 0\n",
      "worst area : 0\n",
      "worst smoothness : 0\n",
      "worst compactness : 0\n",
      "worst concavity : 0\n",
      "worst concave points : 0\n",
      "worst symmetry : 0\n",
      "worst fractal dimension : 0\n",
      "diagnosis : 0\n"
     ]
    }
   ],
   "source": [
    "print(f\"column id : # missing rows\\n\")\n",
    "for col in df.columns:\n",
    "    print(f\"{col} : {df[col].isnull().sum()}\")\n",
    "    # print(\"-\"* 50)"
   ]
  },
  {
   "cell_type": "markdown",
   "id": "0208c7cf",
   "metadata": {},
   "source": [
    "**5.2** Check across column."
   ]
  },
  {
   "cell_type": "code",
   "execution_count": 20,
   "id": "8f38fbe3",
   "metadata": {},
   "outputs": [
    {
     "data": {
      "text/plain": [
       "np.int64(0)"
      ]
     },
     "execution_count": 20,
     "metadata": {},
     "output_type": "execute_result"
    }
   ],
   "source": [
    "(df.isnull().sum(axis=1) > 0).sum()"
   ]
  },
  {
   "cell_type": "markdown",
   "id": "75fe21f4",
   "metadata": {},
   "source": [
    "Looks to be 54 rows that contain a NaN"
   ]
  },
  {
   "cell_type": "markdown",
   "id": "8eac5565",
   "metadata": {},
   "source": [
    "There are many ways to deal with missing data:\n",
    "-  Fill with a Mean/Median\n",
    "-  Forward Fill (`ffill`): Replacing NaN values with the previous non-NaN value in the same column\n",
    "-  Backward Fill (`bfill`): Replacing NaN values with the next non-NaN value in the same column\n",
    "-  Droping the rows\n",
    "\n",
    "\n",
    "We will opt for dropping the rows."
   ]
  },
  {
   "cell_type": "code",
   "execution_count": 21,
   "id": "1889c9a0",
   "metadata": {},
   "outputs": [
    {
     "data": {
      "text/html": [
       "<div>\n",
       "<style scoped>\n",
       "    .dataframe tbody tr th:only-of-type {\n",
       "        vertical-align: middle;\n",
       "    }\n",
       "\n",
       "    .dataframe tbody tr th {\n",
       "        vertical-align: top;\n",
       "    }\n",
       "\n",
       "    .dataframe thead th {\n",
       "        text-align: right;\n",
       "    }\n",
       "</style>\n",
       "<table border=\"1\" class=\"dataframe\">\n",
       "  <thead>\n",
       "    <tr style=\"text-align: right;\">\n",
       "      <th></th>\n",
       "      <th>id</th>\n",
       "      <th>mean radius</th>\n",
       "      <th>mean texture</th>\n",
       "      <th>mean perimeter</th>\n",
       "      <th>mean area</th>\n",
       "      <th>mean smoothness</th>\n",
       "      <th>mean compactness</th>\n",
       "      <th>mean concavity</th>\n",
       "      <th>mean concave points</th>\n",
       "      <th>mean symmetry</th>\n",
       "      <th>...</th>\n",
       "      <th>worst texture</th>\n",
       "      <th>worst perimeter</th>\n",
       "      <th>worst area</th>\n",
       "      <th>worst smoothness</th>\n",
       "      <th>worst compactness</th>\n",
       "      <th>worst concavity</th>\n",
       "      <th>worst concave points</th>\n",
       "      <th>worst symmetry</th>\n",
       "      <th>worst fractal dimension</th>\n",
       "      <th>diagnosis</th>\n",
       "    </tr>\n",
       "  </thead>\n",
       "  <tbody>\n",
       "    <tr>\n",
       "      <th>0</th>\n",
       "      <td>4021</td>\n",
       "      <td>17.99</td>\n",
       "      <td>10.38</td>\n",
       "      <td>122.80</td>\n",
       "      <td>1001.0</td>\n",
       "      <td>0.11840</td>\n",
       "      <td>0.27760</td>\n",
       "      <td>0.300100</td>\n",
       "      <td>0.147100</td>\n",
       "      <td>0.2419</td>\n",
       "      <td>...</td>\n",
       "      <td>17.33</td>\n",
       "      <td>184.60</td>\n",
       "      <td>2019.0</td>\n",
       "      <td>0.16220</td>\n",
       "      <td>0.66560</td>\n",
       "      <td>0.711900</td>\n",
       "      <td>0.26540</td>\n",
       "      <td>0.4601</td>\n",
       "      <td>0.11890</td>\n",
       "      <td>benign</td>\n",
       "    </tr>\n",
       "    <tr>\n",
       "      <th>1</th>\n",
       "      <td>4664</td>\n",
       "      <td>20.57</td>\n",
       "      <td>17.77</td>\n",
       "      <td>132.90</td>\n",
       "      <td>1326.0</td>\n",
       "      <td>0.08474</td>\n",
       "      <td>0.07864</td>\n",
       "      <td>0.086900</td>\n",
       "      <td>0.070170</td>\n",
       "      <td>0.1812</td>\n",
       "      <td>...</td>\n",
       "      <td>23.41</td>\n",
       "      <td>158.80</td>\n",
       "      <td>1956.0</td>\n",
       "      <td>0.12380</td>\n",
       "      <td>0.18660</td>\n",
       "      <td>0.241600</td>\n",
       "      <td>0.18600</td>\n",
       "      <td>0.2750</td>\n",
       "      <td>0.08902</td>\n",
       "      <td>benign</td>\n",
       "    </tr>\n",
       "    <tr>\n",
       "      <th>2</th>\n",
       "      <td>2967</td>\n",
       "      <td>19.69</td>\n",
       "      <td>21.25</td>\n",
       "      <td>130.00</td>\n",
       "      <td>1203.0</td>\n",
       "      <td>0.10960</td>\n",
       "      <td>0.15990</td>\n",
       "      <td>0.197400</td>\n",
       "      <td>0.127900</td>\n",
       "      <td>0.2069</td>\n",
       "      <td>...</td>\n",
       "      <td>25.53</td>\n",
       "      <td>152.50</td>\n",
       "      <td>1709.0</td>\n",
       "      <td>0.14440</td>\n",
       "      <td>0.42450</td>\n",
       "      <td>0.450400</td>\n",
       "      <td>0.24300</td>\n",
       "      <td>0.3613</td>\n",
       "      <td>0.08758</td>\n",
       "      <td>benign</td>\n",
       "    </tr>\n",
       "    <tr>\n",
       "      <th>3</th>\n",
       "      <td>1289</td>\n",
       "      <td>11.42</td>\n",
       "      <td>20.38</td>\n",
       "      <td>77.58</td>\n",
       "      <td>386.1</td>\n",
       "      <td>0.14250</td>\n",
       "      <td>0.28390</td>\n",
       "      <td>0.241400</td>\n",
       "      <td>0.105200</td>\n",
       "      <td>0.2597</td>\n",
       "      <td>...</td>\n",
       "      <td>26.50</td>\n",
       "      <td>98.87</td>\n",
       "      <td>567.7</td>\n",
       "      <td>0.20980</td>\n",
       "      <td>0.86630</td>\n",
       "      <td>0.686900</td>\n",
       "      <td>0.25750</td>\n",
       "      <td>0.6638</td>\n",
       "      <td>0.17300</td>\n",
       "      <td>benign</td>\n",
       "    </tr>\n",
       "    <tr>\n",
       "      <th>4</th>\n",
       "      <td>3968</td>\n",
       "      <td>20.29</td>\n",
       "      <td>14.34</td>\n",
       "      <td>135.10</td>\n",
       "      <td>1297.0</td>\n",
       "      <td>0.10030</td>\n",
       "      <td>0.13280</td>\n",
       "      <td>0.198000</td>\n",
       "      <td>0.104300</td>\n",
       "      <td>0.1809</td>\n",
       "      <td>...</td>\n",
       "      <td>16.67</td>\n",
       "      <td>152.20</td>\n",
       "      <td>1575.0</td>\n",
       "      <td>0.13740</td>\n",
       "      <td>0.20500</td>\n",
       "      <td>0.400000</td>\n",
       "      <td>0.16250</td>\n",
       "      <td>0.2364</td>\n",
       "      <td>0.07678</td>\n",
       "      <td>benign</td>\n",
       "    </tr>\n",
       "    <tr>\n",
       "      <th>...</th>\n",
       "      <td>...</td>\n",
       "      <td>...</td>\n",
       "      <td>...</td>\n",
       "      <td>...</td>\n",
       "      <td>...</td>\n",
       "      <td>...</td>\n",
       "      <td>...</td>\n",
       "      <td>...</td>\n",
       "      <td>...</td>\n",
       "      <td>...</td>\n",
       "      <td>...</td>\n",
       "      <td>...</td>\n",
       "      <td>...</td>\n",
       "      <td>...</td>\n",
       "      <td>...</td>\n",
       "      <td>...</td>\n",
       "      <td>...</td>\n",
       "      <td>...</td>\n",
       "      <td>...</td>\n",
       "      <td>...</td>\n",
       "      <td>...</td>\n",
       "    </tr>\n",
       "    <tr>\n",
       "      <th>636</th>\n",
       "      <td>1507</td>\n",
       "      <td>14.61</td>\n",
       "      <td>15.69</td>\n",
       "      <td>92.68</td>\n",
       "      <td>664.9</td>\n",
       "      <td>0.07618</td>\n",
       "      <td>0.03515</td>\n",
       "      <td>0.014470</td>\n",
       "      <td>0.018770</td>\n",
       "      <td>0.1632</td>\n",
       "      <td>...</td>\n",
       "      <td>21.75</td>\n",
       "      <td>103.70</td>\n",
       "      <td>840.8</td>\n",
       "      <td>0.10110</td>\n",
       "      <td>0.07087</td>\n",
       "      <td>0.047460</td>\n",
       "      <td>0.05813</td>\n",
       "      <td>0.2530</td>\n",
       "      <td>0.05695</td>\n",
       "      <td>malignant</td>\n",
       "    </tr>\n",
       "    <tr>\n",
       "      <th>637</th>\n",
       "      <td>3129</td>\n",
       "      <td>10.29</td>\n",
       "      <td>27.61</td>\n",
       "      <td>65.67</td>\n",
       "      <td>321.4</td>\n",
       "      <td>0.09030</td>\n",
       "      <td>0.07658</td>\n",
       "      <td>0.059990</td>\n",
       "      <td>0.027380</td>\n",
       "      <td>0.1593</td>\n",
       "      <td>...</td>\n",
       "      <td>34.91</td>\n",
       "      <td>69.57</td>\n",
       "      <td>357.6</td>\n",
       "      <td>0.13840</td>\n",
       "      <td>0.17100</td>\n",
       "      <td>0.200000</td>\n",
       "      <td>0.09127</td>\n",
       "      <td>0.2226</td>\n",
       "      <td>0.08283</td>\n",
       "      <td>malignant</td>\n",
       "    </tr>\n",
       "    <tr>\n",
       "      <th>638</th>\n",
       "      <td>2003</td>\n",
       "      <td>14.26</td>\n",
       "      <td>18.17</td>\n",
       "      <td>91.22</td>\n",
       "      <td>633.1</td>\n",
       "      <td>0.06576</td>\n",
       "      <td>0.05220</td>\n",
       "      <td>0.024750</td>\n",
       "      <td>0.013740</td>\n",
       "      <td>0.1635</td>\n",
       "      <td>...</td>\n",
       "      <td>25.26</td>\n",
       "      <td>105.80</td>\n",
       "      <td>819.7</td>\n",
       "      <td>0.09445</td>\n",
       "      <td>0.21670</td>\n",
       "      <td>0.156500</td>\n",
       "      <td>0.07530</td>\n",
       "      <td>0.2636</td>\n",
       "      <td>0.07676</td>\n",
       "      <td>malignant</td>\n",
       "    </tr>\n",
       "    <tr>\n",
       "      <th>639</th>\n",
       "      <td>4844</td>\n",
       "      <td>11.25</td>\n",
       "      <td>14.78</td>\n",
       "      <td>71.38</td>\n",
       "      <td>390.0</td>\n",
       "      <td>0.08306</td>\n",
       "      <td>0.04458</td>\n",
       "      <td>0.000974</td>\n",
       "      <td>0.002941</td>\n",
       "      <td>0.1773</td>\n",
       "      <td>...</td>\n",
       "      <td>22.06</td>\n",
       "      <td>82.08</td>\n",
       "      <td>492.7</td>\n",
       "      <td>0.11660</td>\n",
       "      <td>0.09794</td>\n",
       "      <td>0.005518</td>\n",
       "      <td>0.01667</td>\n",
       "      <td>0.2815</td>\n",
       "      <td>0.07418</td>\n",
       "      <td>malignant</td>\n",
       "    </tr>\n",
       "    <tr>\n",
       "      <th>640</th>\n",
       "      <td>3013</td>\n",
       "      <td>20.94</td>\n",
       "      <td>23.56</td>\n",
       "      <td>138.90</td>\n",
       "      <td>1364.0</td>\n",
       "      <td>0.10070</td>\n",
       "      <td>0.16060</td>\n",
       "      <td>0.271200</td>\n",
       "      <td>0.131000</td>\n",
       "      <td>0.2205</td>\n",
       "      <td>...</td>\n",
       "      <td>27.00</td>\n",
       "      <td>165.30</td>\n",
       "      <td>2010.0</td>\n",
       "      <td>0.12110</td>\n",
       "      <td>0.31720</td>\n",
       "      <td>0.699100</td>\n",
       "      <td>0.21050</td>\n",
       "      <td>0.3126</td>\n",
       "      <td>0.07849</td>\n",
       "      <td>benign</td>\n",
       "    </tr>\n",
       "  </tbody>\n",
       "</table>\n",
       "<p>584 rows × 32 columns</p>\n",
       "</div>"
      ],
      "text/plain": [
       "       id  mean radius  mean texture  mean perimeter  mean area  \\\n",
       "0    4021        17.99         10.38          122.80     1001.0   \n",
       "1    4664        20.57         17.77          132.90     1326.0   \n",
       "2    2967        19.69         21.25          130.00     1203.0   \n",
       "3    1289        11.42         20.38           77.58      386.1   \n",
       "4    3968        20.29         14.34          135.10     1297.0   \n",
       "..    ...          ...           ...             ...        ...   \n",
       "636  1507        14.61         15.69           92.68      664.9   \n",
       "637  3129        10.29         27.61           65.67      321.4   \n",
       "638  2003        14.26         18.17           91.22      633.1   \n",
       "639  4844        11.25         14.78           71.38      390.0   \n",
       "640  3013        20.94         23.56          138.90     1364.0   \n",
       "\n",
       "     mean smoothness  mean compactness  mean concavity  mean concave points  \\\n",
       "0            0.11840           0.27760        0.300100             0.147100   \n",
       "1            0.08474           0.07864        0.086900             0.070170   \n",
       "2            0.10960           0.15990        0.197400             0.127900   \n",
       "3            0.14250           0.28390        0.241400             0.105200   \n",
       "4            0.10030           0.13280        0.198000             0.104300   \n",
       "..               ...               ...             ...                  ...   \n",
       "636          0.07618           0.03515        0.014470             0.018770   \n",
       "637          0.09030           0.07658        0.059990             0.027380   \n",
       "638          0.06576           0.05220        0.024750             0.013740   \n",
       "639          0.08306           0.04458        0.000974             0.002941   \n",
       "640          0.10070           0.16060        0.271200             0.131000   \n",
       "\n",
       "     mean symmetry  ...  worst texture  worst perimeter  worst area  \\\n",
       "0           0.2419  ...          17.33           184.60      2019.0   \n",
       "1           0.1812  ...          23.41           158.80      1956.0   \n",
       "2           0.2069  ...          25.53           152.50      1709.0   \n",
       "3           0.2597  ...          26.50            98.87       567.7   \n",
       "4           0.1809  ...          16.67           152.20      1575.0   \n",
       "..             ...  ...            ...              ...         ...   \n",
       "636         0.1632  ...          21.75           103.70       840.8   \n",
       "637         0.1593  ...          34.91            69.57       357.6   \n",
       "638         0.1635  ...          25.26           105.80       819.7   \n",
       "639         0.1773  ...          22.06            82.08       492.7   \n",
       "640         0.2205  ...          27.00           165.30      2010.0   \n",
       "\n",
       "     worst smoothness  worst compactness  worst concavity  \\\n",
       "0             0.16220            0.66560         0.711900   \n",
       "1             0.12380            0.18660         0.241600   \n",
       "2             0.14440            0.42450         0.450400   \n",
       "3             0.20980            0.86630         0.686900   \n",
       "4             0.13740            0.20500         0.400000   \n",
       "..                ...                ...              ...   \n",
       "636           0.10110            0.07087         0.047460   \n",
       "637           0.13840            0.17100         0.200000   \n",
       "638           0.09445            0.21670         0.156500   \n",
       "639           0.11660            0.09794         0.005518   \n",
       "640           0.12110            0.31720         0.699100   \n",
       "\n",
       "     worst concave points  worst symmetry  worst fractal dimension  diagnosis  \n",
       "0                 0.26540          0.4601                  0.11890     benign  \n",
       "1                 0.18600          0.2750                  0.08902     benign  \n",
       "2                 0.24300          0.3613                  0.08758     benign  \n",
       "3                 0.25750          0.6638                  0.17300     benign  \n",
       "4                 0.16250          0.2364                  0.07678     benign  \n",
       "..                    ...             ...                      ...        ...  \n",
       "636               0.05813          0.2530                  0.05695  malignant  \n",
       "637               0.09127          0.2226                  0.08283  malignant  \n",
       "638               0.07530          0.2636                  0.07676  malignant  \n",
       "639               0.01667          0.2815                  0.07418  malignant  \n",
       "640               0.21050          0.3126                  0.07849     benign  \n",
       "\n",
       "[584 rows x 32 columns]"
      ]
     },
     "execution_count": 21,
     "metadata": {},
     "output_type": "execute_result"
    }
   ],
   "source": [
    "df = df.dropna(axis=0)\n",
    "df"
   ]
  },
  {
   "cell_type": "code",
   "execution_count": 22,
   "id": "a6be4c98",
   "metadata": {},
   "outputs": [
    {
     "data": {
      "text/plain": [
       "584"
      ]
     },
     "execution_count": 22,
     "metadata": {},
     "output_type": "execute_result"
    }
   ],
   "source": [
    "len(df)"
   ]
  },
  {
   "cell_type": "markdown",
   "id": "83b458f0",
   "metadata": {},
   "source": [
    "## 6\n",
    "\n",
    "Lets check the data types."
   ]
  },
  {
   "cell_type": "code",
   "execution_count": 23,
   "id": "24ac4f65",
   "metadata": {},
   "outputs": [
    {
     "data": {
      "text/plain": [
       "id                           int64\n",
       "mean radius                float64\n",
       "mean texture               float64\n",
       "mean perimeter             float64\n",
       "mean area                  float64\n",
       "mean smoothness            float64\n",
       "mean compactness           float64\n",
       "mean concavity             float64\n",
       "mean concave points        float64\n",
       "mean symmetry              float64\n",
       "mean fractal dimension     float64\n",
       "radius error               float64\n",
       "texture error              float64\n",
       "perimeter error            float64\n",
       "area error                 float64\n",
       "smoothness error           float64\n",
       "compactness error          float64\n",
       "concavity error            float64\n",
       "concave points error       float64\n",
       "symmetry error             float64\n",
       "fractal dimension error    float64\n",
       "worst radius               float64\n",
       "worst texture              float64\n",
       "worst perimeter            float64\n",
       "worst area                 float64\n",
       "worst smoothness           float64\n",
       "worst compactness          float64\n",
       "worst concavity            float64\n",
       "worst concave points       float64\n",
       "worst symmetry             float64\n",
       "worst fractal dimension    float64\n",
       "diagnosis                   object\n",
       "dtype: object"
      ]
     },
     "execution_count": 23,
     "metadata": {},
     "output_type": "execute_result"
    }
   ],
   "source": [
    "df.dtypes"
   ]
  },
  {
   "cell_type": "markdown",
   "id": "7f6cd23e",
   "metadata": {},
   "source": [
    "Thoses look good"
   ]
  },
  {
   "cell_type": "markdown",
   "id": "86f52add",
   "metadata": {},
   "source": [
    "## 7\n",
    "Great now that out data is clean lets make the `X`, `y`\n",
    "\n",
    "1. We dont need `id` in `X`\n",
    "2. We need `y` to be 0/1 not \"benign\"/\"malignant\""
   ]
  },
  {
   "cell_type": "markdown",
   "id": "fc1924cc",
   "metadata": {},
   "source": [
    "**7.1**\n",
    "\n",
    "Make the `X` matrix:\n",
    "\n",
    "- Drop `[id, diagnosis]`\n",
    "\n",
    "- Turn into numpy array"
   ]
  },
  {
   "cell_type": "code",
   "execution_count": 24,
   "id": "d2ecee95",
   "metadata": {},
   "outputs": [
    {
     "data": {
      "text/plain": [
       "(584, 30)"
      ]
     },
     "execution_count": 24,
     "metadata": {},
     "output_type": "execute_result"
    }
   ],
   "source": [
    "X = df.drop(columns=['id', 'diagnosis']).to_numpy()\n",
    "X.shape"
   ]
  },
  {
   "cell_type": "markdown",
   "id": "7a800910",
   "metadata": {},
   "source": [
    "**7.2** \n",
    "\n",
    "Make the `y` vector:\n",
    "- Use just column `diagnosis`\n",
    "\n",
    "- Convert to be 0 or 1\n",
    "\n",
    "- Turn into numpy array"
   ]
  },
  {
   "cell_type": "code",
   "execution_count": 25,
   "id": "d9c956ba",
   "metadata": {},
   "outputs": [
    {
     "data": {
      "text/plain": [
       "(584,)"
      ]
     },
     "execution_count": 25,
     "metadata": {},
     "output_type": "execute_result"
    }
   ],
   "source": [
    "y = df['diagnosis'].apply(lambda x: 0 if x == 'benign' else 1).to_numpy()\n",
    "# y = np.where(df['diagnosis'] == 'benign', 0, 1).to_numpy()\n",
    "y.shape"
   ]
  },
  {
   "cell_type": "code",
   "execution_count": 26,
   "id": "87e2a2fc",
   "metadata": {},
   "outputs": [
    {
     "name": "stdout",
     "output_type": "stream",
     "text": [
      "Shape of X: (584, 30)  and shape of y: (584,)\n"
     ]
    }
   ],
   "source": [
    "print(f\"Shape of X: {X.shape}  and shape of y: {y.shape}\")"
   ]
  },
  {
   "cell_type": "markdown",
   "id": "82c325a9",
   "metadata": {},
   "source": [
    "**7.3**\n",
    "\n",
    "Normalize the data:\n",
    "- Mean 0 std 1\n",
    "- MinMax scale between 0-1"
   ]
  },
  {
   "cell_type": "markdown",
   "id": "f571fa16",
   "metadata": {},
   "source": [
    "**7.4** \n",
    "\n",
    "Split them up 80/20  for Train/Test."
   ]
  },
  {
   "cell_type": "code",
   "execution_count": 27,
   "id": "1b8cdf1a",
   "metadata": {},
   "outputs": [],
   "source": [
    "X_normalized_minmax = (X - X.min(axis=0)) / (X.max(axis=0) - X.min(axis=0)) # min max\n",
    "X_normalized_std = (X - X.mean(axis=0)) / (X.std(axis=0)) #mean 0 std 1\n",
    "\n",
    "X = X_normalized_std\n",
    "# from sklearn.preprocessing import MinMaxScaler\n",
    "\n",
    "# scaler = MinMaxScaler()\n",
    "# X_normalized = scaler.fit_transform(X)"
   ]
  },
  {
   "cell_type": "code",
   "execution_count": 28,
   "id": "a5f174e7",
   "metadata": {},
   "outputs": [],
   "source": [
    "#shuffle the data first\n",
    "np.random.seed(42) # for reproducibility\n",
    "perm_idxs = np.random.permutation(len(X))\n",
    "X = X[perm_idxs]\n",
    "y = y[perm_idxs]"
   ]
  },
  {
   "cell_type": "code",
   "execution_count": 29,
   "id": "f3673597",
   "metadata": {},
   "outputs": [],
   "source": [
    "#split them \n",
    "train_size = int(len(X) * 0.8 )\n",
    "X_train, y_train = X[:train_size], y[:train_size]\n",
    "X_test, y_test = X[train_size:], y[train_size:]"
   ]
  },
  {
   "cell_type": "code",
   "execution_count": 30,
   "id": "a0d29e40",
   "metadata": {},
   "outputs": [
    {
     "name": "stdout",
     "output_type": "stream",
     "text": [
      "Shape X train: (467, 30)  Shape y train: (467,)\n",
      "Shape X test: (117, 30)  Shape y test: (117,)\n"
     ]
    }
   ],
   "source": [
    "print(f\"Shape X train: {X_train.shape}  Shape y train: {y_train.shape}\")\n",
    "print(f\"Shape X test: {X_test.shape}  Shape y test: {y_test.shape}\")\n"
   ]
  },
  {
   "cell_type": "markdown",
   "id": "c7107c07",
   "metadata": {},
   "source": [
    "**7.4**\n",
    "\n",
    "We now save our processed data to be used."
   ]
  },
  {
   "cell_type": "code",
   "execution_count": 31,
   "id": "6def14f4",
   "metadata": {},
   "outputs": [],
   "source": [
    "np.save('X_train.npy', X_train)\n",
    "np.save('y_train.npy', y_train)\n",
    "\n",
    "np.save('X_test.npy', X_test)\n",
    "np.save('y_test.npy', y_test)"
   ]
  },
  {
   "cell_type": "markdown",
   "id": "07f3e0e3",
   "metadata": {},
   "source": [
    "or we save them as `.pt`"
   ]
  },
  {
   "cell_type": "code",
   "execution_count": 32,
   "id": "ff17b66d",
   "metadata": {},
   "outputs": [],
   "source": [
    "# torch.save(X_train, 'X_train.pt')\n",
    "# torch.save(y_train, 'y_train.pt')\n",
    "\n",
    "# torch.save(X_test, 'X_test.pt')\n",
    "# torch.save(y_test, 'y_test.pt')"
   ]
  }
 ],
 "metadata": {
  "kernelspec": {
   "display_name": "base",
   "language": "python",
   "name": "python3"
  },
  "language_info": {
   "codemirror_mode": {
    "name": "ipython",
    "version": 3
   },
   "file_extension": ".py",
   "mimetype": "text/x-python",
   "name": "python",
   "nbconvert_exporter": "python",
   "pygments_lexer": "ipython3",
   "version": "3.11.5"
  }
 },
 "nbformat": 4,
 "nbformat_minor": 5
}
