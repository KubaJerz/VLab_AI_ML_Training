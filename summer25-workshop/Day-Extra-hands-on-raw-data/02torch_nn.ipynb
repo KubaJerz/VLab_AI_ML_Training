{
 "cells": [
  {
   "cell_type": "code",
   "execution_count": 83,
   "id": "cdb829d8",
   "metadata": {},
   "outputs": [],
   "source": [
    "import torch\n",
    "import torch.nn as nn\n",
    "import numpy as np\n",
    "import matplotlib.pyplot as plt\n",
    "from sklearn.metrics import ConfusionMatrixDisplay, classification_report\n",
    "from torch.utils.data import DataLoader, TensorDataset\n",
    "from tqdm import tqdm"
   ]
  },
  {
   "cell_type": "markdown",
   "id": "a71f36e4",
   "metadata": {},
   "source": [
    "## 1\n",
    "\n",
    "Get data as tensors."
   ]
  },
  {
   "cell_type": "code",
   "execution_count": 84,
   "id": "4151d82c",
   "metadata": {},
   "outputs": [
    {
     "data": {
      "text/plain": [
       "((467, 30), (467,), (117, 30), (117,))"
      ]
     },
     "execution_count": 84,
     "metadata": {},
     "output_type": "execute_result"
    }
   ],
   "source": [
    "full_X_train, full_y_train = np.load('X_train.npy'), np.load('y_train.npy')\n",
    "X_test, y_test = np.load('X_test.npy'), np.load('y_test.npy')\n",
    "\n",
    "full_X_train.shape, full_y_train.shape, X_test.shape, y_test.shape"
   ]
  },
  {
   "cell_type": "code",
   "execution_count": 85,
   "id": "893b42a6",
   "metadata": {},
   "outputs": [
    {
     "data": {
      "text/plain": [
       "((350, 30), (350,), (117, 30), (117,))"
      ]
     },
     "execution_count": 85,
     "metadata": {},
     "output_type": "execute_result"
    }
   ],
   "source": [
    "train_size = int(len(full_X_train) * 0.75)\n",
    "X_train, y_train = full_X_train[:train_size], full_y_train[:train_size]\n",
    "X_dev, y_dev = full_X_train[train_size:], full_y_train[train_size:]\n",
    "\n",
    "X_train.shape, y_train.shape, X_dev.shape, y_dev.shape"
   ]
  },
  {
   "cell_type": "code",
   "execution_count": 86,
   "id": "bda6e506",
   "metadata": {},
   "outputs": [],
   "source": [
    "X_train, y_train = torch.tensor(X_train, dtype=torch.float32), torch.tensor(y_train, dtype=torch.float32) \n",
    "X_dev, y_dev = torch.tensor(X_dev, dtype=torch.float32), torch.tensor(y_dev, dtype=torch.float32)\n",
    "X_test, y_test = torch.tensor(X_test, dtype=torch.float32), torch.tensor(y_test, dtype=torch.float32)"
   ]
  },
  {
   "cell_type": "code",
   "execution_count": 87,
   "id": "2b1e7d4a",
   "metadata": {},
   "outputs": [
    {
     "data": {
      "text/plain": [
       "(torch.Size([350, 30]), torch.Size([350]))"
      ]
     },
     "execution_count": 87,
     "metadata": {},
     "output_type": "execute_result"
    }
   ],
   "source": [
    "X_train.shape, y_train.shape"
   ]
  },
  {
   "cell_type": "code",
   "execution_count": 88,
   "id": "f5b7eddd",
   "metadata": {},
   "outputs": [
    {
     "data": {
      "text/plain": [
       "(torch.Size([117, 30]), torch.Size([117]))"
      ]
     },
     "execution_count": 88,
     "metadata": {},
     "output_type": "execute_result"
    }
   ],
   "source": [
    "X_dev.shape, y_dev.shape"
   ]
  },
  {
   "cell_type": "code",
   "execution_count": 89,
   "id": "49e0147a",
   "metadata": {},
   "outputs": [
    {
     "data": {
      "text/plain": [
       "(torch.Size([117, 30]), torch.Size([117]))"
      ]
     },
     "execution_count": 89,
     "metadata": {},
     "output_type": "execute_result"
    }
   ],
   "source": [
    "X_test.shape, y_test.shape"
   ]
  },
  {
   "cell_type": "markdown",
   "id": "8957f191",
   "metadata": {},
   "source": [
    "## 2 \n",
    "\n",
    "Define our model."
   ]
  },
  {
   "cell_type": "code",
   "execution_count": 90,
   "id": "672d5374",
   "metadata": {},
   "outputs": [],
   "source": [
    "class simple_mlp(nn.Module):\n",
    "    def __init__(self, *args, **kwargs):\n",
    "        super().__init__(*args, **kwargs)\n",
    "        self.l0 = nn.Linear(30, 500)\n",
    "        self.l1 = nn.Linear(500, 500)\n",
    "        self.l2 = nn.Linear(500, 500)\n",
    "        self.l3 = nn.Linear(500, 500)\n",
    "        self.out = nn.Linear(500, 1)\n",
    "\n",
    "        self.relu = nn.ReLU()\n",
    "        self.sig = nn.Sigmoid()\n",
    "\n",
    "\n",
    "    def forward(self, x):\n",
    "        x = self.relu(self.l0(x))\n",
    "        x = self.relu(self.l1(x))\n",
    "        x = self.relu(self.l2(x))\n",
    "        x = self.relu(self.l3(x))\n",
    "\n",
    "        out = self.out(x)\n",
    "\n",
    "        return out"
   ]
  },
  {
   "cell_type": "code",
   "execution_count": 91,
   "id": "b7b57f09",
   "metadata": {},
   "outputs": [
    {
     "data": {
      "text/plain": [
       "torch.float32"
      ]
     },
     "execution_count": 91,
     "metadata": {},
     "output_type": "execute_result"
    }
   ],
   "source": [
    "# quick sanity check\n",
    "torch.arange(0, 30, dtype=torch.float32).dtype"
   ]
  },
  {
   "cell_type": "code",
   "execution_count": 92,
   "id": "c6e18634",
   "metadata": {},
   "outputs": [
    {
     "data": {
      "text/plain": [
       "tensor([-0.3644], grad_fn=<ViewBackward0>)"
      ]
     },
     "execution_count": 92,
     "metadata": {},
     "output_type": "execute_result"
    }
   ],
   "source": [
    "model = simple_mlp()\n",
    "\n",
    "model(torch.arange(0, 30, dtype=torch.float32))"
   ]
  },
  {
   "cell_type": "markdown",
   "id": "3918d996",
   "metadata": {},
   "source": [
    "# 3\n",
    "\n",
    "Define a loss function."
   ]
  },
  {
   "cell_type": "code",
   "execution_count": 93,
   "id": "e07198da",
   "metadata": {},
   "outputs": [],
   "source": [
    "criterion = nn.BCEWithLogitsLoss()"
   ]
  },
  {
   "cell_type": "markdown",
   "id": "6113b72a",
   "metadata": {},
   "source": [
    "## 4\n",
    "\n",
    "Define a optimzer."
   ]
  },
  {
   "cell_type": "code",
   "execution_count": 94,
   "id": "ba511ae6",
   "metadata": {},
   "outputs": [],
   "source": [
    "optimizer = torch.optim.Adam(model.parameters(), lr=0.0003) "
   ]
  },
  {
   "cell_type": "markdown",
   "id": "440c2d03",
   "metadata": {},
   "source": [
    "## 5 \n",
    "\n",
    "Define training loop.\n",
    "\n",
    "1. clear optimizer\n",
    "2. forward pass\n",
    "3. compute loss\n",
    "4. propigate loss\n",
    "5. optim step\n"
   ]
  },
  {
   "cell_type": "code",
   "execution_count": 95,
   "id": "8b6d44c9",
   "metadata": {},
   "outputs": [
    {
     "data": {
      "text/plain": [
       "0.6934633255004883"
      ]
     },
     "execution_count": 95,
     "metadata": {},
     "output_type": "execute_result"
    }
   ],
   "source": [
    "optimizer.zero_grad()\n",
    "pred = model(X_train)\n",
    "loss = criterion(pred, y_train.unsqueeze(dim=1))\n",
    "loss.backward()\n",
    "optimizer.step()\n",
    "loss.item()"
   ]
  },
  {
   "cell_type": "markdown",
   "id": "4df70597",
   "metadata": {},
   "source": [
    "## 6\n",
    "\n",
    "Thats no way to train NN. Lets add some things to help us:\n",
    "1. Vizualize loss curve.\n",
    "\n",
    "2. Add a `for loop`.\n",
    "\n",
    "3. Use Dev set."
   ]
  },
  {
   "cell_type": "code",
   "execution_count": 96,
   "id": "1b162035",
   "metadata": {},
   "outputs": [],
   "source": [
    "lossi = []\n",
    "devlossi = []"
   ]
  },
  {
   "cell_type": "code",
   "execution_count": 97,
   "id": "acc8e7ce",
   "metadata": {},
   "outputs": [
    {
     "name": "stderr",
     "output_type": "stream",
     "text": [
      "100%|██████████| 40/40 [00:00<00:00, 145.64it/s]\n"
     ]
    },
    {
     "data": {
      "image/png": "[encoded data removed]",
      "text/plain": [
       "<Figure size 640x480 with 1 Axes>"
      ]
     },
     "metadata": {},
     "output_type": "display_data"
    }
   ],
   "source": [
    "for epoch in tqdm(range(40)):\n",
    "    model.train()\n",
    "    optimizer.zero_grad()\n",
    "    pred = model(X_train)\n",
    "    loss = criterion(pred, y_train.unsqueeze(dim=1))\n",
    "    loss.backward()\n",
    "    optimizer.step()\n",
    "    lossi.append(loss.item())\n",
    "\n",
    "    model.eval()\n",
    "    with torch.no_grad():\n",
    "        dev_pred = model(X_dev)\n",
    "        dev_loss = criterion(dev_pred, y_dev.unsqueeze(dim=1))\n",
    "\n",
    "        devlossi.append(dev_loss.item())\n",
    "\n",
    "\n",
    "\n",
    "plt.plot(devlossi, label='dev loss')\n",
    "plt.plot(lossi, label='train loss')\n",
    "plt.legend()\n",
    "plt.show()"
   ]
  },
  {
   "cell_type": "code",
   "execution_count": 98,
   "id": "380c2022",
   "metadata": {},
   "outputs": [],
   "source": [
    "#LETS TEST"
   ]
  },
  {
   "cell_type": "code",
   "execution_count": 99,
   "id": "f5acd7ac",
   "metadata": {},
   "outputs": [
    {
     "name": "stdout",
     "output_type": "stream",
     "text": [
      "              precision    recall  f1-score   support\n",
      "\n",
      "         0.0       0.98      0.92      0.95        51\n",
      "         1.0       0.94      0.98      0.96        66\n",
      "\n",
      "    accuracy                           0.96       117\n",
      "   macro avg       0.96      0.95      0.96       117\n",
      "weighted avg       0.96      0.96      0.96       117\n",
      "\n"
     ]
    },
    {
     "data": {
      "image/png": "[encoded data removed]",
      "text/plain": [
       "<Figure size 640x480 with 2 Axes>"
      ]
     },
     "metadata": {},
     "output_type": "display_data"
    }
   ],
   "source": [
    "model.eval()\n",
    "test_pred = model(X_test)\n",
    "\n",
    "\n",
    "test_pred = test_pred.detach().numpy()\n",
    "binary_pred = (test_pred > 0.5).astype(int)\n",
    "print(classification_report(y_test, binary_pred))\n",
    "ConfusionMatrixDisplay.from_predictions(y_test, binary_pred);"
   ]
  },
  {
   "cell_type": "markdown",
   "id": "04a8871a",
   "metadata": {},
   "source": [
    "This is not that good lets see what we can do to get better results"
   ]
  },
  {
   "cell_type": "markdown",
   "id": "501e33c6",
   "metadata": {},
   "source": [
    "## 8\n",
    "\n",
    "Extra stuff.\n",
    "- mini batches\n",
    "- dropout\n",
    "- batchnorm"
   ]
  },
  {
   "cell_type": "markdown",
   "id": "41b1a05c",
   "metadata": {},
   "source": [
    "**8.1** \n",
    "\n",
    "Redefine the model."
   ]
  },
  {
   "cell_type": "code",
   "execution_count": 106,
   "id": "fe65b81d",
   "metadata": {},
   "outputs": [],
   "source": [
    "class improved_mlp(nn.Module):\n",
    "    def __init__(self, dropout=0.5):\n",
    "        super().__init__()\n",
    "        self.l0 = nn.Linear(30, 500)\n",
    "\n",
    "        self.l1 = nn.Linear(500, 500)\n",
    "        # self.bn1 = nn.BatchNorm1d(500)\n",
    "\n",
    "        self.l2 = nn.Linear(500, 500)\n",
    "        # self.bn2 = nn.BatchNorm1d(500)\n",
    "\n",
    "        self.l3 = nn.Linear(500, 500)\n",
    "        # self.bn3 = nn.BatchNorm1d(500)\n",
    "\n",
    "        self.out = nn.Linear(500, 1)\n",
    "\n",
    "        self.relu = nn.ReLU()\n",
    "        self.sig = nn.Sigmoid()\n",
    "\n",
    "\n",
    "    def forward(self, x):\n",
    "        x = self.relu(self.l0(x))\n",
    "        x = self.relu(self.l1(x))\n",
    "        x = self.relu(self.l2(x))\n",
    "        x = self.relu(self.l3(x))\n",
    "        out = self.out(x)\n",
    "\n",
    "        return out"
   ]
  },
  {
   "cell_type": "code",
   "execution_count": 123,
   "id": "19c36a78",
   "metadata": {},
   "outputs": [],
   "source": [
    "model_imporoved = improved_mlp()\n",
    "criterion = nn.BCEWithLogitsLoss()\n",
    "\n",
    "## EXAMPLE OF CODE THAT WILL RUN BUT I WRONG !!!!!!!!!\n",
    "# optimizer = torch.optim.Adam(model.parameters(), lr=0.0003) \n",
    "optimizer = torch.optim.Adam(model_imporoved.parameters(), lr=0.0003) \n"
   ]
  },
  {
   "cell_type": "code",
   "execution_count": 124,
   "id": "fccd54e4",
   "metadata": {},
   "outputs": [],
   "source": [
    "train_dataset = TensorDataset(X_train, y_train)\n",
    "train_loader = DataLoader(train_dataset, batch_size=128)"
   ]
  },
  {
   "cell_type": "code",
   "execution_count": 125,
   "id": "98a6565c",
   "metadata": {},
   "outputs": [],
   "source": [
    "lossi = []\n",
    "devlossi = []"
   ]
  },
  {
   "cell_type": "code",
   "execution_count": 126,
   "id": "7be0a8d0",
   "metadata": {},
   "outputs": [
    {
     "name": "stderr",
     "output_type": "stream",
     "text": [
      "100%|██████████| 15/15 [00:00<00:00, 81.48it/s]\n"
     ]
    },
    {
     "data": {
      "image/png": "[encoded data removed]",
      "text/plain": [
       "<Figure size 640x480 with 1 Axes>"
      ]
     },
     "metadata": {},
     "output_type": "display_data"
    }
   ],
   "source": [
    "## EXAMPLE OF CODE THAT WILL RUN BUT I WRONG !!!!!!!!!\n",
    "for epoch in tqdm(range(15)):\n",
    "    \n",
    "    loss_total = 0\n",
    "    model_imporoved.train()\n",
    "    for X_bacth, y_batch in train_loader:\n",
    "        optimizer.zero_grad()\n",
    "        pred = model_imporoved(X_bacth)\n",
    "        loss = criterion(pred, y_batch.unsqueeze(dim=1))\n",
    "        loss.backward()\n",
    "        optimizer.step()\n",
    "        loss_total += loss.item()\n",
    "\n",
    "    lossi.append(loss_total/len(train_loader))\n",
    "    \n",
    "\n",
    "    model_imporoved.eval()\n",
    "    with torch.no_grad():\n",
    "        dev_pred = model_imporoved(X_dev)\n",
    "        dev_loss = criterion(dev_pred, y_dev.unsqueeze(dim=1))\n",
    "\n",
    "        devlossi.append(dev_loss.item())\n",
    "\n",
    "\n",
    "\n",
    "\n",
    "plt.plot(lossi, label='train loss')\n",
    "plt.plot(devlossi, label='dev loss')\n",
    "plt.legend()\n",
    "plt.show()"
   ]
  },
  {
   "cell_type": "code",
   "execution_count": 127,
   "id": "226a0166",
   "metadata": {},
   "outputs": [
    {
     "name": "stdout",
     "output_type": "stream",
     "text": [
      "              precision    recall  f1-score   support\n",
      "\n",
      "         0.0       0.98      0.94      0.96        51\n",
      "         1.0       0.96      0.98      0.97        66\n",
      "\n",
      "    accuracy                           0.97       117\n",
      "   macro avg       0.97      0.96      0.97       117\n",
      "weighted avg       0.97      0.97      0.97       117\n",
      "\n"
     ]
    },
    {
     "data": {
      "image/png": "[encoded data removed]",
      "text/plain": [
       "<Figure size 640x480 with 2 Axes>"
      ]
     },
     "metadata": {},
     "output_type": "display_data"
    }
   ],
   "source": [
    "model_imporoved.eval()\n",
    "test_pred = model_imporoved(X_test)\n",
    "\n",
    "\n",
    "test_pred = test_pred.detach().numpy()\n",
    "binary_pred = (test_pred > 0.5).astype(int)\n",
    "print(classification_report(y_test, binary_pred))\n",
    "ConfusionMatrixDisplay.from_predictions(y_test, binary_pred);"
   ]
  }
 ],
 "metadata": {
  "kernelspec": {
   "display_name": "base",
   "language": "python",
   "name": "python3"
  },
  "language_info": {
   "codemirror_mode": {
    "name": "ipython",
    "version": 3
   },
   "file_extension": ".py",
   "mimetype": "text/x-python",
   "name": "python",
   "nbconvert_exporter": "python",
   "pygments_lexer": "ipython3",
   "version": "3.11.5"
  }
 },
 "nbformat": 4,
 "nbformat_minor": 5
}
