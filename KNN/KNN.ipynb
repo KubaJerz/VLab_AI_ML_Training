{
 "cells": [
  {
   "cell_type": "markdown",
   "id": "ab60ca9d",
   "metadata": {},
   "source": [
    "K Nearest Neighbor - AI Training Software  \n",
    "Copyright (C) 2024 AI Institute, University of South Carolina\n",
    "\n",
    "Authors:    Homayoun Valafar\n",
    "            Andrew Smith\n",
    "            Christopher Lee\n",
    "            Alireza Bagheri\n",
    "            Musa Azim\n",
    "         \n",
    "\n",
    "This program is free software: you can redistribute it and/or modify  \n",
    "it under the terms of the GNU General Public License as published by  \n",
    "the Free Software Foundation, either version 3 of the License, or  \n",
    "(at your option) any later version.  \n",
    "\n",
    "This program is distributed in the hope that it will be useful,  \n",
    "but WITHOUT ANY WARRANTY; without even the implied warranty of  \n",
    "MERCHANTABILITY or FITNESS FOR A PARTICULAR PURPOSE. See the  \n",
    "GNU General Public License for more details.  \n",
    "\n",
    "You should have received a copy of the GNU General Public License  \n",
    "along with this program. If not, see <https://www.gnu.org/licenses/>.  \n",
    "\n",
    "For inquiries or permissions, contact: Dr. Valafar (homayoun@cse.sc.edu)"
   ]
  },
  {
   "cell_type": "markdown",
   "id": "e7703833",
   "metadata": {},
   "source": [
    "The following YouTube videos show how KNN works: \n",
    "- https://www.youtube.com/watch?v=zeFt_JCA3b4\n",
    "- https://www.youtube.com/watch?v=0p0o5cmgLdE"
   ]
  },
  {
   "cell_type": "code",
   "execution_count": null,
   "id": "initial_id",
   "metadata": {
    "collapsed": true
   },
   "outputs": [],
   "source": [
    "import matplotlib.pyplot as plt\n",
    "import numpy as np\n",
    "import pandas as pd\n",
    "from sklearn.datasets import make_classification\n",
    "from sklearn.model_selection import train_test_split\n",
    "from sklearn.neighbors import KNeighborsClassifier\n",
    "from sklearn.metrics import accuracy_score\n",
    "from sklearn.metrics import confusion_matrix, ConfusionMatrixDisplay\n",
    "from sklearn.model_selection import train_test_split"
   ]
  },
  {
   "cell_type": "code",
   "execution_count": null,
   "id": "6b067ee3",
   "metadata": {},
   "outputs": [],
   "source": [
    "# Generate a synthetic dataset with easy separability\n",
    "X, y = make_classification(\n",
    "    n_samples=10000,      # Total number of samples\n",
    "    n_features=2,        # Number of features (dimensions)\n",
    "    n_informative=1,     # Number of informative features\n",
    "    n_redundant=0,       # Number of redundant features\n",
    "    n_repeated=0,\n",
    "    n_classes=2,\n",
    "    n_clusters_per_class=1,\n",
    "    flip_y=0,            # Fraction of samples whose class is randomly exchanged\n",
    "    class_sep=0.5,         # Separation between the classes\n",
    "    weights = [0.95, 0.05], # Can adjust balance of the data\n",
    "    hypercube=True,\n",
    "    random_state=2\n",
    ")\n",
    "\n",
    "print(X.shape)\n",
    "print(y.shape)"
   ]
  },
  {
   "cell_type": "code",
   "execution_count": null,
   "id": "a22151eb",
   "metadata": {},
   "outputs": [],
   "source": [
    "# Split the dataset into training and testing sets\n",
    "X_train, X_test, y_train, y_test = train_test_split(X, y, test_size=0.3, random_state=42)"
   ]
  },
  {
   "cell_type": "code",
   "execution_count": null,
   "id": "2b71e4c4",
   "metadata": {},
   "outputs": [],
   "source": [
    "# Plot the generated dataset\n",
    "plt.figure(figsize=(10, 6))\n",
    "plt.scatter(X_train[:, 0], X_train[:, 1], c=y_train, cmap='coolwarm', marker='o', edgecolor='k', s=70, label='Train')\n",
    "plt.scatter(X_test[:, 0], X_test[:, 1], c=y_test, cmap='coolwarm', marker='x', edgecolor='k', s=70, label='Test')\n",
    "plt.title(\"Synthetic Data with Easy Separability\")\n",
    "plt.xlabel(\"Feature 1\")\n",
    "plt.ylabel(\"Feature 2\")\n",
    "plt.legend()\n",
    "plt.show()"
   ]
  },
  {
   "cell_type": "code",
   "execution_count": null,
   "id": "cd116cc7",
   "metadata": {},
   "outputs": [],
   "source": [
    "# Initialize the k-NN classifier with k=3\n",
    "k = 3\n",
    "knn = KNeighborsClassifier(n_neighbors=k)\n",
    "\n",
    "# Train the classifier\n",
    "knn.fit(X_train, y_train)\n",
    "\n",
    "# Make predictions on the test set\n",
    "y_pred = knn.predict(X_test)\n",
    "\n",
    "# Calculate accuracy\n",
    "accuracy = accuracy_score(y_test, y_pred)\n",
    "print(f\"Accuracy: {accuracy:.2f}\")"
   ]
  },
  {
   "cell_type": "code",
   "execution_count": null,
   "id": "a5b099e8",
   "metadata": {},
   "outputs": [],
   "source": [
    "# Generate confusion matrix\n",
    "cm = confusion_matrix(y_test, y_pred)\n",
    "\n",
    "# Display confusion matrix\n",
    "disp = ConfusionMatrixDisplay(confusion_matrix=cm)\n",
    "disp.plot(cmap=plt.cm.Blues)\n",
    "plt.title(\"Confusion Matrix\")\n",
    "plt.xlabel(\"Predicted Label\")\n",
    "plt.ylabel(\"True Label\")\n",
    "plt.show()"
   ]
  },
  {
   "cell_type": "code",
   "execution_count": null,
   "id": "1f0570d4",
   "metadata": {},
   "outputs": [],
   "source": [
    "# Plot the decision boundary\n",
    "def plot_decision_boundary(X, y, model):\n",
    "    x_min, x_max = X[:, 0].min() - 1, X[:, 0].max() + 1\n",
    "    y_min, y_max = X[:, 1].min() - 1, X[:, 1].max() + 1\n",
    "    xx, yy = np.meshgrid(np.arange(x_min, x_max, 0.01),\n",
    "                         np.arange(y_min, y_max, 0.01))\n",
    "    Z = model.predict(np.c_[xx.ravel(), yy.ravel()])\n",
    "    Z = Z.reshape(xx.shape)\n",
    "    plt.contourf(xx, yy, Z, alpha=0.8, cmap='coolwarm')\n",
    "    plt.scatter(X[:, 0], X[:, 1], c=y, edgecolors='k', marker='o', cmap='coolwarm')\n",
    "    plt.xlabel('Feature 1')\n",
    "    plt.ylabel('Feature 2')\n",
    "    plt.title('Decision Boundary')\n",
    "\n",
    "plt.figure(figsize=(10, 6))\n",
    "plot_decision_boundary(X_test, y_test, knn)\n",
    "plt.show()"
   ]
  }
 ],
 "metadata": {
  "kernelspec": {
   "display_name": "Python 3",
   "language": "python",
   "name": "python3"
  },
  "language_info": {
   "codemirror_mode": {
    "name": "ipython",
    "version": 3
   },
   "file_extension": ".py",
   "mimetype": "text/x-python",
   "name": "python",
   "nbconvert_exporter": "python",
   "pygments_lexer": "ipython3",
   "version": "3.12.3"
  }
 },
 "nbformat": 4,
 "nbformat_minor": 5
}
